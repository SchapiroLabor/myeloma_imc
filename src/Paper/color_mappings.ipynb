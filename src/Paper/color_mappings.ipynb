{
 "cells": [
  {
   "cell_type": "code",
   "execution_count": null,
   "metadata": {},
   "outputs": [],
   "source": [
    "import matplotlib.pyplot as plt\n",
    "import seaborn as sns\n",
    "import anndata as ad\n",
    "import glasbey\n",
    "import tol_colors\n",
    "from matplotlib.colors import ListedColormap, to_rgb\n",
    "import json\n"
   ]
  },
  {
   "cell_type": "code",
   "execution_count": null,
   "metadata": {},
   "outputs": [],
   "source": [
    "adata = ad.read_h5ad(\"/Users/lukashat/Documents/PhD_Schapiro/Projects/Myeloma_Standal/results/standard/adatas/cells_final.h5ad\")\n",
    "with open('/Users/lukashat/Documents/PhD_Schapiro/Projects/Myeloma_Standal/github/myeloma_standal/src/Paper/figure_plots/neighborhood_color_map.json', 'r') as f:\n",
    "    neighborhood_color_map = json.load(f)"
   ]
  },
  {
   "cell_type": "code",
   "execution_count": null,
   "metadata": {},
   "outputs": [],
   "source": [
    "palette = glasbey.create_palette(palette_size=15)\n",
    "cell_types = list(adata.obs['Phenotype4'].cat.categories)\n",
    "\n",
    "color_mapping = {\n",
    "    cell_type: to_rgb(hex_code)\n",
    "    for cell_type, hex_code in zip(cell_types, palette)\n",
    "}"
   ]
  },
  {
   "cell_type": "code",
   "execution_count": null,
   "metadata": {},
   "outputs": [],
   "source": [
    "color_mapping"
   ]
  },
  {
   "cell_type": "code",
   "execution_count": null,
   "metadata": {},
   "outputs": [],
   "source": [
    "phenotype_colors = [color_mapping[cat] for cat in list(adata.obs['Phenotype4'].cat.categories)]\n",
    "phenotype_colors = ListedColormap(phenotype_colors)\n",
    "phenotype_colors"
   ]
  },
  {
   "cell_type": "code",
   "execution_count": null,
   "metadata": {},
   "outputs": [],
   "source": [
    "color_mapping['PCs'], color_mapping['Endothelial'] = color_mapping['Endothelial'], color_mapping['PCs']\n"
   ]
  },
  {
   "cell_type": "code",
   "execution_count": null,
   "metadata": {},
   "outputs": [],
   "source": [
    "save_dict = {k: list(v) for k, v in color_mapping.items()}\n",
    "with open('/Users/lukashat/Documents/PhD_Schapiro/Projects/Myeloma_Standal/github/myeloma_standal/src/Paper/figure_plots/phenotype_color_map.json', 'w') as f:\n",
    "    json.dump(save_dict, f, indent=4)"
   ]
  },
  {
   "cell_type": "markdown",
   "metadata": {},
   "source": [
    "## NBHs"
   ]
  },
  {
   "cell_type": "code",
   "execution_count": null,
   "metadata": {},
   "outputs": [],
   "source": [
    "sns.palplot(glasbey.extend_palette(\"Set2\", palette_size=9))"
   ]
  },
  {
   "cell_type": "code",
   "execution_count": null,
   "metadata": {},
   "outputs": [],
   "source": [
    "palette = glasbey.extend_palette(\"Set2\", palette_size=9)\n",
    "nbhs = list(adata.obs['cellcharter_CN'].cat.categories)\n",
    "\n",
    "color_mapping = {\n",
    "    nbh: to_rgb(hex_code)\n",
    "    for nbh, hex_code in zip(nbhs, palette)\n",
    "}"
   ]
  },
  {
   "cell_type": "code",
   "execution_count": null,
   "metadata": {},
   "outputs": [],
   "source": [
    "color_mapping['BONE_ADIPOCYTES'], color_mapping['PC_OXPHOS'] = color_mapping['PC_OXPHOS'], color_mapping['BONE_ADIPOCYTES']"
   ]
  },
  {
   "cell_type": "code",
   "execution_count": null,
   "metadata": {},
   "outputs": [],
   "source": [
    "nbh_colors = [color_mapping[cat] for cat in list(adata.obs['cellcharter_CN'].cat.categories)]\n",
    "nbh_colors = ListedColormap(nbh_colors)\n",
    "nbh_colors"
   ]
  },
  {
   "cell_type": "code",
   "execution_count": null,
   "metadata": {},
   "outputs": [],
   "source": [
    "with open('/Users/lukashat/Documents/PhD_Schapiro/Projects/Myeloma_Standal/github/myeloma_standal/src/Paper/figure_plots/neighborhood_color_map.json', 'w') as f:\n",
    "    json.dump(color_mapping, f, indent=4)"
   ]
  },
  {
   "cell_type": "code",
   "execution_count": null,
   "metadata": {},
   "outputs": [],
   "source": []
  }
 ],
 "metadata": {
  "kernelspec": {
   "display_name": "spatial_plotting",
   "language": "python",
   "name": "python3"
  },
  "language_info": {
   "codemirror_mode": {
    "name": "ipython",
    "version": 3
   },
   "file_extension": ".py",
   "mimetype": "text/x-python",
   "name": "python",
   "nbconvert_exporter": "python",
   "pygments_lexer": "ipython3",
   "version": "3.10.16"
  }
 },
 "nbformat": 4,
 "nbformat_minor": 2
}
