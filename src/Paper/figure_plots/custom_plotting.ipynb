{
 "cells": [
  {
   "cell_type": "code",
   "execution_count": 1,
   "metadata": {},
   "outputs": [],
   "source": [
    "import tifffile\n",
    "import numpy as np\n",
    "from matplotlib import colors\n",
    "import matplotlib.pyplot as plt\n",
    "from skimage import segmentation\n",
    "from scipy.ndimage import binary_dilation\n",
    "from matplotlib.colors import ListedColormap\n",
    "from matplotlib_scalebar.scalebar import ScaleBar\n",
    "import anndata as ad\n",
    "import json\n",
    "import os"
   ]
  },
  {
   "cell_type": "code",
   "execution_count": 2,
   "metadata": {},
   "outputs": [],
   "source": [
    "def process_full_image(cell_df, seg_mask_path, target_col, label_col='label'):\n",
    "    segmentation_mask = tifffile.imread(seg_mask_path) # read the whole segmentation mask - adapt code if lazy loading is needed\n",
    "    mask = np.isin(segmentation_mask, cell_df[label_col].values) # filter out cells not in the cell dataframe based on cell id, e.g. if removing artefacts\n",
    "    segmentation_mask[~mask] = 0\n",
    "\n",
    "    plot_segmentation = np.zeros(segmentation_mask.shape, dtype=np.uint8) # create an empty array for plotting - this array will be filled with cell type labels\n",
    "    unique_identifiers = set(cell_df[target_col].unique())\n",
    "    for i, identifier in enumerate(unique_identifiers):\n",
    "        print(identifier, i+1)\n",
    "        layer_labels = cell_df.loc[cell_df[target_col] == identifier, label_col] # Thanks Lukas for catching this\n",
    "        plot_segmentation[np.isin(segmentation_mask, layer_labels)] = i+1\n",
    "    \n",
    "    return segmentation_mask, plot_segmentation\n",
    "\n",
    "def crop_roi(segmentation_mask, plot_segmentation, ROI_upper_left, ROI_lower_right):\n",
    "    roi_crop = segmentation_mask[ ROI_upper_left[0]:ROI_lower_right[0], ROI_upper_left[1]:ROI_lower_right[1]]\n",
    "    plot_crop = plot_segmentation[ROI_upper_left[0]:ROI_lower_right[0], ROI_upper_left[1]:ROI_lower_right[1]]\n",
    "    return roi_crop, plot_crop\n",
    "\n",
    "def create_plot(roi_crop, plot_crop, cmap, boundaries=False, boundary_color=(0, 0, 0, 1), boundary_thickness=1,save_path=None):\n",
    "    plt.figure(figsize=(10, 10))\n",
    "    plt.gca().set_aspect('equal', adjustable='box')\n",
    "    scalebar = ScaleBar(1, 'um', location='lower left')\n",
    "    plt.gca().add_artist(scalebar)\n",
    "    plt.imshow(plot_crop, cmap=cmap, interpolation='none')\n",
    "    if boundaries:\n",
    "        boundaries_prediction = segmentation.find_boundaries(roi_crop, mode='thick')\n",
    "        for _ in range(boundary_thickness - 1):  # Apply dilation multiple times for thicker boundaries\n",
    "            boundaries_prediction = binary_dilation(boundaries_prediction)\n",
    "        # Create an RGBA overlay: boundary pixels get the specified color, others are transparent\n",
    "        boundary_overlay = np.zeros((*boundaries_prediction.shape, 4))  # Initialize as transparent\n",
    "        boundary_overlay[boundaries_prediction] = boundary_color  # Assign color where boundary is detected\n",
    "\n",
    "        # Overlay the boundaries while keeping the original image\n",
    "        plt.imshow(boundary_overlay, interpolation='none')\n",
    "    plt.axis('off')\n",
    "    if save_path:\n",
    "        plt.savefig(save_path, bbox_inches='tight', pad_inches=0)\n"
   ]
  },
  {
   "cell_type": "code",
   "execution_count": 3,
   "metadata": {},
   "outputs": [],
   "source": [
    "extension = 'svg'\n",
    "save_path = f'/Users/lukashat/Documents/PhD_Schapiro/Projects/Myeloma_Standal/paper/plots/figures/figure_1/{extension}/'\n",
    "save_path_supp = f'/Users/lukashat/Documents/PhD_Schapiro/Projects/Myeloma_Standal/paper/plots/figures/suppl_figure_1/{extension}/'\n",
    "plt.rcParams['figure.dpi'] = 100\n",
    "plt.rcParams['savefig.dpi'] = 300\n",
    "adata = ad.read_h5ad(\"/Users/lukashat/Documents/PhD_Schapiro/Projects/Myeloma_Standal/results/standard/adatas/cells_final.h5ad\")\n",
    "with open('/Users/lukashat/Documents/PhD_Schapiro/Projects/Myeloma_Standal/github/myeloma_standal/src/Paper/figure_plots/neighborhood_color_map.json', 'r') as f:\n",
    "    neighborhood_color_map = json.load(f)\n",
    "with open('/Users/lukashat/Documents/PhD_Schapiro/Projects/Myeloma_Standal/github/myeloma_standal/src/Paper/figure_plots/phenotype_color_map.json', 'r') as f:\n",
    "    phenotype_color_map = json.load(f)\n",
    "with open('/Users/lukashat/Documents/PhD_Schapiro/Projects/Myeloma_Standal/github/myeloma_standal/src/Paper/figure_plots/disease_color_map.json', 'r') as f:\n",
    "    disease_color_map = json.load(f)\n",
    "with open('/Users/lukashat/Documents/PhD_Schapiro/Projects/Myeloma_Standal/github/myeloma_standal/src/Paper/figure_plots/disease3_color_map.json', 'r') as f:\n",
    "    disease3_color_map = json.load(f)\n",
    "neighborhood_colors = [neighborhood_color_map[cat] for cat in list(adata.obs['cellcharter_CN'].cat.categories)]\n",
    "phenotype_colors = [phenotype_color_map[cat] for cat in list(adata.obs['Phenotype4'].cat.categories)]\n",
    "disease_colors = [disease_color_map[cat] for cat in list(adata.obs['disease2'].cat.categories)]\n",
    "disease3_colors = [disease3_color_map[cat] for cat in list(adata.obs['disease3'].cat.categories)]"
   ]
  },
  {
   "cell_type": "code",
   "execution_count": null,
   "metadata": {},
   "outputs": [],
   "source": [
    "df = adata.to_df()\n",
    "cell_df_whole = df.join(adata.obs)\n",
    "sample = 'TS-373_IMC42_B_001.csv'\n",
    "seg_name = sample.split('.csv')[0] + '.tiff'\n",
    "seg_mask_path = f'/Users/lukashat/Documents/PhD_Schapiro/Projects/Myeloma_Standal/results/standard/masks/{seg_name}'\n",
    "cell_df = cell_df_whole.loc[cell_df_whole['image_ID'] == sample]\n",
    "cell_df = cell_df[cell_df['Phenotype4'] != 'exclude'] "
   ]
  },
  {
   "cell_type": "code",
   "execution_count": null,
   "metadata": {},
   "outputs": [],
   "source": [
    "target_col = 'cellcharter_CN' # column of interest for color coding\n",
    "unique_identifiers = set(cell_df[target_col].unique())\n",
    "segmentation_mask, plot_segmentation = process_full_image(cell_df=cell_df, seg_mask_path=seg_mask_path, target_col=target_col, label_col='Object') # if unsure of which regions to select, I just process the full image then crop the files later - this could be made more efficient by cropping the image before processing\n"
   ]
  },
  {
   "cell_type": "code",
   "execution_count": null,
   "metadata": {},
   "outputs": [],
   "source": [
    "ROI_upper_left = (0, 0)\n",
    "ROI_lower_right = (1000,1000)\n",
    "roi_crop, plot_crop = crop_roi(segmentation_mask, plot_segmentation, ROI_upper_left, ROI_lower_right)"
   ]
  },
  {
   "cell_type": "code",
   "execution_count": null,
   "metadata": {},
   "outputs": [],
   "source": [
    "background_color = 'black'\n",
    "colors_list = [background_color] + [phenotype_color_map[identifier] for identifier in unique_identifiers] \n",
    "colors_list"
   ]
  },
  {
   "cell_type": "code",
   "execution_count": null,
   "metadata": {},
   "outputs": [],
   "source": [
    "background_color = 'black'\n",
    "colors_list = [background_color] + [neighborhood_color_map[identifier] for identifier in unique_identifiers] \n",
    "colors_list"
   ]
  },
  {
   "cell_type": "code",
   "execution_count": null,
   "metadata": {},
   "outputs": [],
   "source": [
    "final_cmap = colors.ListedColormap(colors_list)\n",
    "final_cmap"
   ]
  },
  {
   "cell_type": "code",
   "execution_count": null,
   "metadata": {},
   "outputs": [],
   "source": [
    "create_plot(roi_crop=roi_crop, plot_crop=plot_crop, cmap=final_cmap, boundaries=True, boundary_color=(0, 0, 0, 1), boundary_thickness=1,\n",
    "            save_path=os.path.join(save_path, f'{sample.split(\".csv\")[0]}_{target_col}.{extension}')\n",
    "            )"
   ]
  },
  {
   "cell_type": "code",
   "execution_count": null,
   "metadata": {},
   "outputs": [],
   "source": []
  }
 ],
 "metadata": {
  "kernelspec": {
   "display_name": "spatial_plotting",
   "language": "python",
   "name": "python3"
  },
  "language_info": {
   "codemirror_mode": {
    "name": "ipython",
    "version": 3
   },
   "file_extension": ".py",
   "mimetype": "text/x-python",
   "name": "python",
   "nbconvert_exporter": "python",
   "pygments_lexer": "ipython3",
   "version": "3.10.16"
  }
 },
 "nbformat": 4,
 "nbformat_minor": 2
}
