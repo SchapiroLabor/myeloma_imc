{
 "cells": [
  {
   "cell_type": "code",
   "execution_count": null,
   "metadata": {},
   "outputs": [],
   "source": [
    "import cellcharter as cc\n",
    "import numpy as np\n",
    "import matplotlib.pyplot as plt\n",
    "import matplotlib.patches as mpatches\n",
    "from matplotlib.colors import ListedColormap\n",
    "import pandas as pd\n",
    "import seaborn as sns\n",
    "import scanpy as sc\n",
    "import anndata as ad\n",
    "import squidpy as sq\n",
    "import os\n",
    "import json"
   ]
  },
  {
   "cell_type": "code",
   "execution_count": null,
   "metadata": {},
   "outputs": [],
   "source": [
    "extension = 'png'\n",
    "save_path = f'/Users/lukashat/Documents/PhD_Schapiro/Projects/Myeloma_Standal/paper/plots/figures/figure_5/{extension}/'\n",
    "save_path_supp = f'/Users/lukashat/Documents/PhD_Schapiro/Projects/Myeloma_Standal/paper/plots/figures/suppl_figure_5/{extension}/'\n",
    "plt.rcParams['figure.dpi'] = 100\n",
    "plt.rcParams['savefig.dpi'] = 300\n",
    "adata = ad.read_h5ad(\"/Users/lukashat/Documents/PhD_Schapiro/Projects/Myeloma_Standal/results/standard/adatas/cells_final.h5ad\")\n",
    "with open('/Users/lukashat/Documents/PhD_Schapiro/Projects/Myeloma_Standal/github/myeloma_standal/src/Paper/figure_plots/neighborhood_color_map.json', 'r') as f:\n",
    "    neighborhood_color_map = json.load(f)\n",
    "with open('/Users/lukashat/Documents/PhD_Schapiro/Projects/Myeloma_Standal/github/myeloma_standal/src/Paper/figure_plots/phenotype_color_map.json', 'r') as f:\n",
    "    phenotype_color_map = json.load(f)\n",
    "with open('/Users/lukashat/Documents/PhD_Schapiro/Projects/Myeloma_Standal/github/myeloma_standal/src/Paper/figure_plots/disease_color_map.json', 'r') as f:\n",
    "    disease_color_map = json.load(f)\n",
    "with open('/Users/lukashat/Documents/PhD_Schapiro/Projects/Myeloma_Standal/github/myeloma_standal/src/Paper/figure_plots/disease3_color_map.json', 'r') as f:\n",
    "    disease3_color_map = json.load(f)\n",
    "neighborhood_colors = [neighborhood_color_map[cat] for cat in list(adata.obs['cellcharter_CN'].cat.categories)]\n",
    "neighborhood_colors = ListedColormap(neighborhood_colors)\n",
    "phenotype_colors = [phenotype_color_map[cat] for cat in list(adata.obs['Phenotype4'].cat.categories)]\n",
    "phenotype_colors = ListedColormap(phenotype_colors)\n",
    "disease_colors = [disease_color_map[cat] for cat in list(adata.obs['disease2'].cat.categories)]\n",
    "disease_colors = ListedColormap(disease_colors)\n",
    "disease3_colors = [disease3_color_map[cat] for cat in list(adata.obs['disease3'].cat.categories)]\n",
    "disease3_colors = ListedColormap(disease3_colors)"
   ]
  },
  {
   "cell_type": "code",
   "execution_count": null,
   "metadata": {},
   "outputs": [],
   "source": [
    "md = pd.read_csv('/Users/lukashat/Documents/PhD_Schapiro/Projects/Myeloma_Standal/metadata/metadata.csv')\n",
    "md = md[md['Cohort'].isin(['B', 'UB'])]\n",
    "adata = adata[adata.obs['patient_ID'].isin(md['IMC label'])]\n",
    "adata.obs['PFS_group'] = adata.obs['patient_ID'].map(md.set_index('IMC label')['Short_long PFS (< or >  2 yrs)'])\n",
    "adata.obs['PFS_group'] = adata.obs['PFS_group'].astype('category')"
   ]
  },
  {
   "cell_type": "markdown",
   "metadata": {},
   "source": [
    "# Diff. NBH enrichment between PFS groups"
   ]
  },
  {
   "cell_type": "code",
   "execution_count": null,
   "metadata": {},
   "outputs": [],
   "source": [
    "cc.gr.diff_nhood_enrichment(\n",
    "    adata,\n",
    "    cluster_key=f'cellcharter_CN',\n",
    "    condition_key='PFS_group',\n",
    "    library_key='image_ID',\n",
    ")"
   ]
  },
  {
   "cell_type": "code",
   "execution_count": null,
   "metadata": {},
   "outputs": [],
   "source": [
    "cc.pl.diff_nhood_enrichment(\n",
    "    adata,\n",
    "    cluster_key=f'cellcharter_CN',\n",
    "    condition_key='PFS_group',\n",
    "    condition_groups=['long_PFS', 'short_PFS'],\n",
    "    figsize=(4,4),\n",
    "    fontsize=12,\n",
    "    palette=neighborhood_color_map,\n",
    "    save = os.path.join(save_path, 'diff_nhood_enrichment.png')\n",
    ")"
   ]
  },
  {
   "cell_type": "markdown",
   "metadata": {},
   "source": [
    "# Lets take specific cellcharter nbh enrichment scores per patient"
   ]
  },
  {
   "cell_type": "code",
   "execution_count": null,
   "metadata": {},
   "outputs": [],
   "source": [
    "cc.gr.nhood_enrichment(\n",
    "    adata,\n",
    "    cluster_key='cellcharter_CN',\n",
    "    pvalues=True,\n",
    "    n_jobs=8,\n",
    "    n_perms=250\n",
    ")"
   ]
  },
  {
   "cell_type": "code",
   "execution_count": null,
   "metadata": {},
   "outputs": [],
   "source": [
    "cc.pl.nhood_enrichment(\n",
    "    adata,\n",
    "    cluster_key='cellcharter_CN',\n",
    "    annotate=True,\n",
    "    figsize=(4,4),\n",
    "    significance=0.05,\n",
    "    fontsize=12,\n",
    "    vmax=0.03208789256832183,\n",
    "    vmin=-0.03208789256832183\n",
    ")"
   ]
  },
  {
   "cell_type": "code",
   "execution_count": null,
   "metadata": {},
   "outputs": [],
   "source": [
    "score_categories = ['adaptive_immune*bone_vasculature', 'adaptive_immune*focal_pc_oxphos', 'focal_pc_oxphos*stroma_adipocyte',\n",
    "                    'pc_myeloid*focal_pc_oxphos', 'bone_vasculature*focal_pc_oxphos', 'hypoxic_immune*focal_pc_oxphos']\n",
    "def add_patient(patient_id):\n",
    "    score_dict[patient_id] = {category: [] for category in score_categories}\n",
    "score_dict = {}"
   ]
  },
  {
   "cell_type": "code",
   "execution_count": null,
   "metadata": {},
   "outputs": [],
   "source": [
    "for patient in md['IMC label'].unique():\n",
    "    add_patient(patient)\n",
    "    adata_subset = adata[adata.obs['patient_ID'] == patient].copy()\n",
    "    cc.gr.nhood_enrichment(\n",
    "        adata_subset,\n",
    "        cluster_key='cellcharter_CN',\n",
    "    )\n",
    "    for category in score_categories:\n",
    "        index_nbh1, index_nbh2 = category.split('*')\n",
    "        score_dict[patient][category] = pd.DataFrame(adata_subset.uns['cellcharter_CN_nhood_enrichment']['enrichment']).loc[index_nbh1, index_nbh2]\n",
    "    del adata_subset\n"
   ]
  },
  {
   "cell_type": "code",
   "execution_count": null,
   "metadata": {},
   "outputs": [],
   "source": [
    "df = pd.DataFrame(score_dict).T\n",
    "df['patient_ID'] = df.index\n",
    "pfs_mappping = adata.obs[['PFS_group', 'patient_ID']].drop_duplicates()\n",
    "pfs_mappping.set_index('patient_ID', inplace=True)\n",
    "df['pfs'] = df['patient_ID'].map(pfs_mappping['PFS_group'])\n",
    "df.dropna(inplace=True)\n",
    "df.sort_values('pfs', inplace=True)\n",
    "df.set_index('patient_ID', inplace=True)\n",
    "df"
   ]
  },
  {
   "cell_type": "code",
   "execution_count": null,
   "metadata": {},
   "outputs": [],
   "source": [
    "df[df['pfs'] == 'short_PFS']"
   ]
  },
  {
   "cell_type": "code",
   "execution_count": null,
   "metadata": {},
   "outputs": [],
   "source": [
    "df.to_csv('/Users/lukashat/Documents/PhD_Schapiro/Projects/Myeloma_Standal/github/myeloma_standal/src/downstream/clinical_correlation/nhood_enrichment_patients.csv')"
   ]
  },
  {
   "cell_type": "code",
   "execution_count": null,
   "metadata": {},
   "outputs": [],
   "source": [
    "adata_subset.uns['cellcharter_CN_nhood_enrichment']['enrichment']"
   ]
  },
  {
   "cell_type": "code",
   "execution_count": null,
   "metadata": {},
   "outputs": [],
   "source": [
    "index_nbh1, index_nbh2"
   ]
  },
  {
   "cell_type": "code",
   "execution_count": null,
   "metadata": {},
   "outputs": [],
   "source": [
    "score_categories = ['adaptive_immune*bone_vasculature', 'adaptive_immune*focal_pc_oxphos', 'focal_pc_oxphos*stroma_adipocyte',\n",
    "                    'pc_myeloid*focal_pc_oxphos', 'bone_vasculature*focal_pc_oxphos', 'hypoxic_immune*focal_pc_oxphos']\n",
    "def add_image(image_id):\n",
    "    score_dict[image_id] = {category: [] for category in score_categories}\n",
    "score_dict = {}\n",
    "for image_id in adata.obs['image_ID'].unique():\n",
    "    add_image(image_id)\n",
    "    adata_subset = adata[adata.obs['image_ID'] == image_id].copy()\n",
    "    cc.gr.nhood_enrichment(\n",
    "        adata_subset,\n",
    "        cluster_key='cellcharter_CN',\n",
    "    )\n",
    "    for category in score_categories:\n",
    "        index_nbh1, index_nbh2 = category.split('*')\n",
    "\n",
    "        if (index_nbh1 not in adata_subset.uns['cellcharter_CN_nhood_enrichment']['enrichment'].index) or (index_nbh2 not in adata_subset.uns['cellcharter_CN_nhood_enrichment']['enrichment'].index):\n",
    "            score_dict[image_id][category] = np.nan\n",
    "\n",
    "        else: \n",
    "            score_dict[image_id][category] = pd.DataFrame(adata_subset.uns['cellcharter_CN_nhood_enrichment']['enrichment']).loc[index_nbh1, index_nbh2]\n",
    "    del adata_subset\n"
   ]
  },
  {
   "cell_type": "code",
   "execution_count": null,
   "metadata": {},
   "outputs": [],
   "source": [
    "df = pd.DataFrame(score_dict).T\n",
    "df['image_ID'] = df.index\n",
    "pfs_mappping = adata.obs[['PFS_group', 'image_ID']].drop_duplicates()\n",
    "pfs_mappping.set_index('image_ID', inplace=True)\n",
    "df['pfs'] = df['image_ID'].map(pfs_mappping['PFS_group'])\n",
    "df.dropna(inplace=True)\n",
    "df.sort_values('pfs', inplace=True)\n",
    "df.set_index('image_ID', inplace=True)\n",
    "df"
   ]
  },
  {
   "cell_type": "code",
   "execution_count": null,
   "metadata": {},
   "outputs": [],
   "source": [
    "df.to_csv('/Users/lukashat/Documents/PhD_Schapiro/Projects/Myeloma_Standal/github/myeloma_standal/src/downstream/clinical_correlation/nhood_enrichment_images.csv')"
   ]
  },
  {
   "cell_type": "code",
   "execution_count": null,
   "metadata": {},
   "outputs": [],
   "source": [
    "pfs_color_map = {'short_PFS': sns.color_palette('Set3')[0], 'long_PFS': sns.color_palette('Set3')[1]}\n",
    "pfs_color_map"
   ]
  },
  {
   "cell_type": "code",
   "execution_count": null,
   "metadata": {},
   "outputs": [],
   "source": [
    "plt.style.use('default')\n",
    "fig, ax = plt.subplots(figsize=(20, 2))\n",
    "ax_plot = sns.heatmap(df.drop(columns=['pfs']).T, cmap='coolwarm', center=0, cbar_kws={'label': 'enrichment \\n focal_pc_oxphos \\n stroma_adipocyte', 'shrink': 1.2, 'aspect': 8, 'pad': 0.13}, ax=ax, vmin=-0.15, vmax=0.15)\n",
    "disease_colors = [pfs_color_map[d] for d in df['pfs']]\n",
    "ax_disease = fig.add_axes([ax.get_position().x0, \n",
    "                           ax.get_position().y1 + 0.01, \n",
    "                           ax.get_position().width, \n",
    "                           0.14])\n",
    "ax_disease.imshow([disease_colors], \n",
    "                aspect='auto',\n",
    "                extent=[0, len(disease_colors), 0, 1])\n",
    "ax_disease.set_xticks([])\n",
    "ax_disease.set_yticks([])\n",
    "ax_disease.set_xticklabels('')\n",
    "ax_plot.set_xlabel('')\n",
    "ax_plot.set_xticklabels('')\n",
    "ax_plot.set_yticklabels(ax_plot.get_yticklabels(), size=16)\n",
    "\n",
    "legend_patches = [mpatches.Patch(color=color, label=disease_) \n",
    "                for disease_, color in pfs_color_map.items()]\n",
    "cbar = ax_plot.collections[0].colorbar\n",
    "cbar.ax.tick_params(labelsize=16)          # Tick labels\n",
    "cbar.ax.yaxis.label.set_size(14) \n",
    "ax.legend(handles=legend_patches, \n",
    "        bbox_to_anchor=(1.0, 1.6),\n",
    "        framealpha=0.0, \n",
    "        loc='upper left',\n",
    "        title='Disease Cohort',\n",
    "        title_fontsize=16,\n",
    "        fontsize=14)\n",
    "#plt.tight_layout()"
   ]
  },
  {
   "cell_type": "code",
   "execution_count": null,
   "metadata": {},
   "outputs": [],
   "source": []
  }
 ],
 "metadata": {
  "kernelspec": {
   "display_name": "cellcharter_scarches",
   "language": "python",
   "name": "python3"
  },
  "language_info": {
   "codemirror_mode": {
    "name": "ipython",
    "version": 3
   },
   "file_extension": ".py",
   "mimetype": "text/x-python",
   "name": "python",
   "nbconvert_exporter": "python",
   "pygments_lexer": "ipython3",
   "version": "3.9.20"
  }
 },
 "nbformat": 4,
 "nbformat_minor": 2
}
