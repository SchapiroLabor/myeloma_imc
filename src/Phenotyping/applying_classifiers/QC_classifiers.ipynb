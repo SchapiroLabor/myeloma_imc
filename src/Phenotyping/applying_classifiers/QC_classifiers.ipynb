{
 "cells": [
  {
   "cell_type": "code",
   "execution_count": 1,
   "metadata": {},
   "outputs": [],
   "source": [
    "import pandas as pd\n",
    "import numpy as np\n",
    "import os\n",
    "import seaborn as sns\n",
    "import matplotlib.pyplot as plt"
   ]
  },
  {
   "cell_type": "code",
   "execution_count": 5,
   "metadata": {},
   "outputs": [
    {
     "name": "stdout",
     "output_type": "stream",
     "text": [
      "File: TS-373_IMC35_B_002.csv\n",
      "Percentage of Unknown phenotypes: 43.28%\n",
      "\n",
      "File: TS-373_IMC14_B_001.csv\n",
      "Percentage of Unknown phenotypes: 41.29%\n",
      "\n",
      "File: TS-373_IMC12_UB_002.csv\n",
      "Percentage of Unknown phenotypes: 44.28%\n",
      "\n",
      "File: TS-373_IMC02_MGUS_002.csv\n",
      "Percentage of Unknown phenotypes: 41.27%\n",
      "\n",
      "File: TS-373_IMC05_MGUS_001.csv\n",
      "Percentage of Unknown phenotypes: 40.16%\n",
      "\n",
      "File: TS-373_IMC65_B_002.csv\n",
      "Percentage of Unknown phenotypes: 40.08%\n",
      "\n",
      "File: TS-373_IMC02_MGUS_001.csv\n",
      "Percentage of Unknown phenotypes: 41.23%\n",
      "\n",
      "File: TS-373_IMC20_B_002.csv\n",
      "Percentage of Unknown phenotypes: 54.09%\n",
      "\n",
      "File: TS-373_IMC59_MGUS_002.csv\n",
      "Percentage of Unknown phenotypes: 56.16%\n",
      "\n",
      "File: TS-373_IMC16-1_MGUS_002.csv\n",
      "Percentage of Unknown phenotypes: 41.70%\n",
      "\n"
     ]
    }
   ],
   "source": [
    "csv_dir = '/Users/lukashat/Documents/PhD_Schapiro/Projects/Myeloma_Standal/QC/standard/phenotyping/phenotypes_scanorama_corrected_complete'\n",
    "for csv in os.listdir(csv_dir):\n",
    "    if csv.endswith('.csv'):\n",
    "        file_path = os.path.join(csv_dir, csv)\n",
    "        df = pd.read_csv(file_path)\n",
    "        \n",
    "        if 'Phenotype' in df.columns:\n",
    "            phenotypes = df['Phenotype']\n",
    "            total_phenotypes = len(phenotypes)\n",
    "            unknown_count = (phenotypes == 'Unknown').sum()\n",
    "            \n",
    "            if total_phenotypes > 0:\n",
    "                unknown_percentage = unknown_count / total_phenotypes * 100\n",
    "                \n",
    "                if unknown_percentage > 40:\n",
    "                    print(f\"File: {csv}\")\n",
    "                    print(f\"Percentage of Unknown phenotypes: {unknown_percentage:.2f}%\")\n",
    "                    print()"
   ]
  }
 ],
 "metadata": {
  "kernelspec": {
   "display_name": "steinbock",
   "language": "python",
   "name": "python3"
  },
  "language_info": {
   "codemirror_mode": {
    "name": "ipython",
    "version": 3
   },
   "file_extension": ".py",
   "mimetype": "text/x-python",
   "name": "python",
   "nbconvert_exporter": "python",
   "pygments_lexer": "ipython3",
   "version": "3.11.8"
  }
 },
 "nbformat": 4,
 "nbformat_minor": 2
}
