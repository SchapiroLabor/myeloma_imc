{
 "cells": [
  {
   "cell_type": "code",
   "execution_count": 1,
   "metadata": {},
   "outputs": [
    {
     "name": "stdout",
     "output_type": "stream",
     "text": [
      "Running SCIMAP  2.1.3\n"
     ]
    }
   ],
   "source": [
    "import scimap as sm\n",
    "import numpy as np\n",
    "import pandas as pd\n",
    "import ipywidgets as widgets\n",
    "from IPython.display import display\n",
    "import scanpy as sc"
   ]
  },
  {
   "cell_type": "code",
   "execution_count": 2,
   "metadata": {},
   "outputs": [
    {
     "data": {
      "application/vnd.jupyter.widget-view+json": {
       "model_id": "78b70f04e0db406e8ddd07934ada42bf",
       "version_major": 2,
       "version_minor": 0
      },
      "text/plain": [
       "Dropdown(description='Mode:', options=('uncorrected', 'combat_corrected', 'scanorama_corrected'), value='uncor…"
      ]
     },
     "metadata": {},
     "output_type": "display_data"
    },
    {
     "name": "stdout",
     "output_type": "stream",
     "text": [
      "Selected mode: uncorrected\n"
     ]
    },
    {
     "name": "stdout",
     "output_type": "stream",
     "text": [
      "Mode set to: scanorama_corrected\n"
     ]
    }
   ],
   "source": [
    "def on_change(change):\n",
    "    if change['type'] == 'change' and change['name'] == 'value':\n",
    "        global mode\n",
    "        mode = change['new']\n",
    "        print(f\"Mode set to: {mode}\")\n",
    "mode_dropdown = widgets.Dropdown(\n",
    "    options=['uncorrected', 'combat_corrected', 'scanorama_corrected'],\n",
    "    value='uncorrected',\n",
    "    description='Mode:',\n",
    ")\n",
    "\n",
    "display(mode_dropdown)\n",
    "\n",
    "mode = mode_dropdown.value\n",
    "print(\"Selected mode:\", mode)\n",
    "mode_dropdown.observe(on_change)"
   ]
  },
  {
   "cell_type": "code",
   "execution_count": 3,
   "metadata": {},
   "outputs": [],
   "source": [
    "filename = 'TS-373_IMC43_B_001'\n",
    "mask = f'/Users/lukashat/Documents/PhD_Schapiro/Projects/Myeloma_Standal/results/standard/masks/{filename}.tiff'\n",
    "image = f'/Users/lukashat/Documents/PhD_Schapiro/Projects/Myeloma_Standal/results/standard/img/{filename}.tiff'"
   ]
  },
  {
   "cell_type": "code",
   "execution_count": 4,
   "metadata": {},
   "outputs": [],
   "source": [
    "export = f'/Users/lukashat/Documents/PhD_Schapiro/Projects/Myeloma_Standal/results/standard/phenotyping/phenotypes_{mode}_complete/{filename}.csv'\n",
    "#export = f'/Users/lukashat/Documents/PhD_Schapiro/Projects/Myeloma_Standal/QC/Phenotypes/final_test_data/applying_models/{filename}_phenotypes_maps.csv'"
   ]
  },
  {
   "cell_type": "code",
   "execution_count": null,
   "metadata": {},
   "outputs": [],
   "source": [
    "export_df = pd.read_csv(export)"
   ]
  },
  {
   "cell_type": "code",
   "execution_count": 5,
   "metadata": {},
   "outputs": [
    {
     "name": "stdout",
     "output_type": "stream",
     "text": [
      "Loading TS-373_IMC43_B_001.csv\n"
     ]
    }
   ],
   "source": [
    "adata = sm.pp.mcmicro_to_scimap(export,split=\"area\", CellId=\"CellID\", drop_markers = [\"HistoneH3\", \"CD98\", \" 1\", \" 2\", \" 3\", \" 4\", \" 5\", \" 6\", \"191Ir\", \"193Ir\"])"
   ]
  },
  {
   "cell_type": "code",
   "execution_count": 6,
   "metadata": {},
   "outputs": [],
   "source": [
    "sm.pl.image_viewer (image, adata, overlay = 'Phenotype', point_color='white', point_size=4, seg_mask = mask)"
   ]
  },
  {
   "cell_type": "code",
   "execution_count": null,
   "metadata": {},
   "outputs": [],
   "source": [
    "adata.obs['Phenotype'].value_counts()   "
   ]
  },
  {
   "cell_type": "code",
   "execution_count": null,
   "metadata": {},
   "outputs": [],
   "source": [
    "adata.obs['Phenotype'] = adata.obs['Phenotype'].astype('category')\n",
    "sc.tl.dendrogram(adata, groupby='Phenotype')\n",
    "sc.pl.matrixplot(adata, var_names= adata.var.index, groupby='Phenotype', dendrogram=True, use_raw=False, cmap=\"vlag\", standard_scale='var')"
   ]
  },
  {
   "cell_type": "code",
   "execution_count": null,
   "metadata": {},
   "outputs": [],
   "source": [
    "adata.obs['Phenotype'] = adata.obs['Phenotype'].astype('category')\n",
    "sc.tl.dendrogram(adata, groupby='Phenotype')\n",
    "sc.pl.matrixplot(adata, var_names= adata.var.index, groupby='Phenotype', dendrogram=True, use_raw=False, cmap=\"vlag\", standard_scale='var')"
   ]
  }
 ],
 "metadata": {
  "kernelspec": {
   "display_name": "scimap",
   "language": "python",
   "name": "python3"
  },
  "language_info": {
   "codemirror_mode": {
    "name": "ipython",
    "version": 3
   },
   "file_extension": ".py",
   "mimetype": "text/x-python",
   "name": "python",
   "nbconvert_exporter": "python",
   "pygments_lexer": "ipython3",
   "version": "3.10.15"
  }
 },
 "nbformat": 4,
 "nbformat_minor": 2
}
