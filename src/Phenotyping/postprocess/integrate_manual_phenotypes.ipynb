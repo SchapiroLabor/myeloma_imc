{
 "cells": [
  {
   "cell_type": "code",
   "execution_count": 1,
   "metadata": {},
   "outputs": [],
   "source": [
    "import pandas as pd\n",
    "import anndata as ad\n",
    "import numpy as np\n",
    "import os"
   ]
  },
  {
   "cell_type": "markdown",
   "metadata": {},
   "source": [
    "# Correcting regionprops and merged csv phenotypes with manual re-phenotyped images"
   ]
  },
  {
   "cell_type": "code",
   "execution_count": 2,
   "metadata": {},
   "outputs": [],
   "source": [
    "phe_dir = '/Users/lukashat/Documents/PhD_Schapiro/Projects/Myeloma_Standal/github/myeloma_standal/phenotyping/manual_rephenotyping'\n",
    "merged_dir_annotated = '/Users/lukashat/Documents/PhD_Schapiro/Projects/Myeloma_Standal/QC/standard/merged_csv_annotated'\n",
    "regionprops_dir_annotated = '/Users/lukashat/Documents/PhD_Schapiro/Projects/Myeloma_Standal/QC/standard/regionprops_annotated'"
   ]
  },
  {
   "cell_type": "code",
   "execution_count": 3,
   "metadata": {},
   "outputs": [
    {
     "name": "stderr",
     "output_type": "stream",
     "text": [
      "/var/folders/ry/jl4ll0zx1l709rh4r7_0cq6r0000gn/T/ipykernel_16599/3977504773.py:33: FutureWarning: The behavior of Series.replace (and DataFrame.replace) with CategoricalDtype is deprecated. In a future version, replace will only be used for cases that preserve the categories. To change the categories, use ser.cat.rename_categories instead.\n",
      "  merged_csv_annot['Phenotype'] = merged_csv_annot['Phenotype'].replace({\n",
      "/var/folders/ry/jl4ll0zx1l709rh4r7_0cq6r0000gn/T/ipykernel_16599/3977504773.py:38: FutureWarning: The behavior of Series.replace (and DataFrame.replace) with CategoricalDtype is deprecated. In a future version, replace will only be used for cases that preserve the categories. To change the categories, use ser.cat.rename_categories instead.\n",
      "  regionprops_csv_annot['Phenotype'] = regionprops_csv_annot['Phenotype'].replace({\n",
      "/var/folders/ry/jl4ll0zx1l709rh4r7_0cq6r0000gn/T/ipykernel_16599/3977504773.py:33: FutureWarning: The behavior of Series.replace (and DataFrame.replace) with CategoricalDtype is deprecated. In a future version, replace will only be used for cases that preserve the categories. To change the categories, use ser.cat.rename_categories instead.\n",
      "  merged_csv_annot['Phenotype'] = merged_csv_annot['Phenotype'].replace({\n",
      "/var/folders/ry/jl4ll0zx1l709rh4r7_0cq6r0000gn/T/ipykernel_16599/3977504773.py:38: FutureWarning: The behavior of Series.replace (and DataFrame.replace) with CategoricalDtype is deprecated. In a future version, replace will only be used for cases that preserve the categories. To change the categories, use ser.cat.rename_categories instead.\n",
      "  regionprops_csv_annot['Phenotype'] = regionprops_csv_annot['Phenotype'].replace({\n"
     ]
    },
    {
     "name": "stdout",
     "output_type": "stream",
     "text": [
      "Saved merged csv for TS-373_IMC59_MGUS_002\n",
      "Saved regionprops csv for TS-373_IMC59_MGUS_002\n",
      "Saved merged csv for TS-373_IMC20_B_002\n",
      "Saved regionprops csv for TS-373_IMC20_B_002\n"
     ]
    },
    {
     "name": "stderr",
     "output_type": "stream",
     "text": [
      "/var/folders/ry/jl4ll0zx1l709rh4r7_0cq6r0000gn/T/ipykernel_16599/3977504773.py:33: FutureWarning: The behavior of Series.replace (and DataFrame.replace) with CategoricalDtype is deprecated. In a future version, replace will only be used for cases that preserve the categories. To change the categories, use ser.cat.rename_categories instead.\n",
      "  merged_csv_annot['Phenotype'] = merged_csv_annot['Phenotype'].replace({\n",
      "/var/folders/ry/jl4ll0zx1l709rh4r7_0cq6r0000gn/T/ipykernel_16599/3977504773.py:38: FutureWarning: The behavior of Series.replace (and DataFrame.replace) with CategoricalDtype is deprecated. In a future version, replace will only be used for cases that preserve the categories. To change the categories, use ser.cat.rename_categories instead.\n",
      "  regionprops_csv_annot['Phenotype'] = regionprops_csv_annot['Phenotype'].replace({\n"
     ]
    },
    {
     "name": "stdout",
     "output_type": "stream",
     "text": [
      "Saved merged csv for TS-373_IMC35_B_002\n",
      "Saved regionprops csv for TS-373_IMC35_B_002\n"
     ]
    },
    {
     "name": "stderr",
     "output_type": "stream",
     "text": [
      "/var/folders/ry/jl4ll0zx1l709rh4r7_0cq6r0000gn/T/ipykernel_16599/3977504773.py:33: FutureWarning: The behavior of Series.replace (and DataFrame.replace) with CategoricalDtype is deprecated. In a future version, replace will only be used for cases that preserve the categories. To change the categories, use ser.cat.rename_categories instead.\n",
      "  merged_csv_annot['Phenotype'] = merged_csv_annot['Phenotype'].replace({\n",
      "/var/folders/ry/jl4ll0zx1l709rh4r7_0cq6r0000gn/T/ipykernel_16599/3977504773.py:38: FutureWarning: The behavior of Series.replace (and DataFrame.replace) with CategoricalDtype is deprecated. In a future version, replace will only be used for cases that preserve the categories. To change the categories, use ser.cat.rename_categories instead.\n",
      "  regionprops_csv_annot['Phenotype'] = regionprops_csv_annot['Phenotype'].replace({\n"
     ]
    },
    {
     "name": "stdout",
     "output_type": "stream",
     "text": [
      "Saved merged csv for TS-373_IMC12_UB_002\n",
      "Saved regionprops csv for TS-373_IMC12_UB_002\n"
     ]
    }
   ],
   "source": [
    "for phe in os.listdir(phe_dir):\n",
    "    if phe.endswith('.h5ad'):\n",
    "        Image_ID = phe.split('standard')[0]\n",
    "        adata = ad.read_h5ad(os.path.join(phe_dir, phe))\n",
    "        merged_csv_annot = pd.read_csv(os.path.join(merged_dir_annotated, Image_ID + '.csv'))\n",
    "        regionprops_csv_annot = pd.read_csv(os.path.join(regionprops_dir_annotated, Image_ID + '.csv'))\n",
    "        merged_csv_annot = merged_csv_annot[merged_csv_annot['area'] >= 4]\n",
    "        regionprops_csv_annot = regionprops_csv_annot[regionprops_csv_annot['area'] >= 4]\n",
    "        merged_csv_annot['unique_id'] = 'phenotyping' + '_' + Image_ID + '_' + merged_csv_annot['Object'].astype(str)\n",
    "        regionprops_csv_annot['unique_id'] = 'phenotyping' + '_' + Image_ID + '_' + regionprops_csv_annot['Object'].astype(str)\n",
    "        merged_csv_annot.index = merged_csv_annot['unique_id']\n",
    "        regionprops_csv_annot.index = regionprops_csv_annot['unique_id']\n",
    "        phenotype_data = adata.obs['phenotype']\n",
    "        phenotype_df = adata.obs[['phenotype']]\n",
    "        if not merged_csv_annot.index.equals(phenotype_data.index):\n",
    "            for entry in merged_csv_annot.index:\n",
    "                if entry not in phenotype_data.index:\n",
    "                    print(f'merged_csv {entry} is not in adata')\n",
    "        if not regionprops_csv_annot.index.equals(phenotype_data.index):\n",
    "            for entry in regionprops_csv_annot.index:\n",
    "                if entry not in phenotype_data.index:\n",
    "                    print(f'regionprops {entry} is not in adata')\n",
    "        merged_csv_annot = merged_csv_annot.drop(columns='Phenotype').merge(phenotype_df, left_index=True, right_index=True, how='inner')\n",
    "        regionprops_csv_annot = regionprops_csv_annot.drop(columns='Phenotype').merge(phenotype_df, left_index=True, right_index=True, how='inner')\n",
    "        merged_csv_annot.rename(columns={'phenotype': 'Phenotype'}, inplace=True)\n",
    "        merged_csv_annot.drop(columns='unique_id', inplace=True)\n",
    "        regionprops_csv_annot.rename(columns={'phenotype': 'Phenotype'}, inplace=True)\n",
    "        regionprops_csv_annot.drop(columns='unique_id', inplace=True)\n",
    "        if regionprops_csv_annot.isna().sum().sum() > 0:\n",
    "            raise ValueError(\"There are missing values in the regionprops csv.\")\n",
    "        if merged_csv_annot.isna().sum().sum() > 0:\n",
    "            raise ValueError(\"There are missing values in the merged csv.\")\n",
    "        merged_csv_annot['Phenotype'] = merged_csv_annot['Phenotype'].replace({\n",
    "            'mDCs': 'Dendritic Cells',\n",
    "            'Others': 'Unknown',\n",
    "            'CD45+': 'Unknown'\n",
    "            })\n",
    "        regionprops_csv_annot['Phenotype'] = regionprops_csv_annot['Phenotype'].replace({\n",
    "            'mDCs': 'Dendritic Cells',\n",
    "            'Others': 'Unknown',\n",
    "            'CD45+': 'Unknown'\n",
    "            })\n",
    "        merged_csv_annot.to_csv(os.path.join(merged_dir_annotated, Image_ID + '.csv'), index=False)\n",
    "        print('Saved merged csv for ' + Image_ID)\n",
    "        regionprops_csv_annot.to_csv(os.path.join(regionprops_dir_annotated, Image_ID + '.csv'), index=False)\n",
    "        print('Saved regionprops csv for ' + Image_ID)\n",
    "        "
   ]
  },
  {
   "cell_type": "code",
   "execution_count": null,
   "metadata": {},
   "outputs": [],
   "source": []
  }
 ],
 "metadata": {
  "kernelspec": {
   "display_name": "scimap",
   "language": "python",
   "name": "python3"
  },
  "language_info": {
   "codemirror_mode": {
    "name": "ipython",
    "version": 3
   },
   "file_extension": ".py",
   "mimetype": "text/x-python",
   "name": "python",
   "nbconvert_exporter": "python",
   "pygments_lexer": "ipython3",
   "version": "3.10.0"
  }
 },
 "nbformat": 4,
 "nbformat_minor": 2
}
