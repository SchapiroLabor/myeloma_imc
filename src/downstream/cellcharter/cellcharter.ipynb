{
 "cells": [
  {
   "cell_type": "code",
   "execution_count": null,
   "metadata": {},
   "outputs": [],
   "source": [
    "import squidpy as sq\n",
    "import cellcharter as cc\n",
    "import scanpy as sc\n",
    "import anndata as ad\n",
    "import numpy as np\n",
    "import pandas as pd\n",
    "import matplotlib.pyplot as plt\n",
    "import seaborn as sns\n",
    "import os\n",
    "from lightning.pytorch import seed_everything\n",
    "seed_everything(42)\n",
    "sc._settings.ScanpyConfig.n_jobs = -1\n",
    "plt.style.use('ggplot')"
   ]
  },
  {
   "cell_type": "code",
   "execution_count": null,
   "metadata": {},
   "outputs": [],
   "source": [
    "autok = cc.tl.ClusterAutoK.load(\"/Users/lukashat/Documents/PhD_Schapiro/Projects/Myeloma_Standal/results/downstream/neighborhoods/cellcharter/autok_dmr_scale_layer3\")\n",
    "ax = cc.pl.autok_stability(autok, return_ax=True)\n",
    "ax.figure.set_size_inches(12, 6)  "
   ]
  },
  {
   "cell_type": "code",
   "execution_count": null,
   "metadata": {},
   "outputs": [],
   "source": [
    "layers = 3\n",
    "scale = True\n",
    "dmr = True\n",
    "if dmr:\n",
    "    if scale:\n",
    "        trvae_model = 'trvae_scaled'\n",
    "        save = f'dmr_scale_layer{layers}'\n",
    "    else:\n",
    "        trvae_model = 'trvae_nonscaled'\n",
    "        save = f'dmr_noscale_layer{layers}'\n",
    "else:\n",
    "    if scale:\n",
    "        save = f'nodmr_noscale_layer{layers}'\n",
    "    else:\n",
    "        save = f'nodmr_noscale_layer{layers}'\n",
    "\n",
    "n = 9\n",
    "save_path = f'/Users/lukashat/Documents/PhD_Schapiro/Projects/Myeloma_Standal/results/downstream/neighborhoods/cellcharter/{save}/k{n}/'\n",
    "if not os.path.exists(save_path):\n",
    "    os.makedirs(save_path)\n",
    "\n"
   ]
  },
  {
   "cell_type": "code",
   "execution_count": null,
   "metadata": {},
   "outputs": [],
   "source": [
    "adata = ad.read_h5ad(\"/Users/lukashat/Documents/PhD_Schapiro/Projects/Myeloma_Standal/results/standard/adatas/cells_annotated_pp_osteocytes_cleaned.h5ad\")\n",
    "adata.X =  adata.layers['arcsinh']\n",
    "adata.X = adata.X.astype(np.float32).copy()\n",
    "if scale:\n",
    "    sc.pp.scale(adata)\n",
    "adata.X = adata.X.astype(np.float32).copy()\n",
    "condition_key = 'patient_ID'\n",
    "cell_type_key = 'Phenotype3'\n",
    "conditions = adata.obs[condition_key].unique().tolist()\n",
    "if dmr:\n",
    "    model = cc.tl.TRVAE.load(\n",
    "        f'/Users/lukashat/Documents/PhD_Schapiro/Projects/Myeloma_Standal/github/myeloma_standal/src/downstream/advanced_neighborhood/cellcharter/{trvae_model}', \n",
    "        adata, \n",
    "        map_location='cpu'\n",
    "    )\n",
    "    adata.obsm['X_trvae']= model.get_latent(adata.X, adata.obs['patient_ID'])\n",
    "adata.obsm['spatial'] = np.array(adata.obs[['X_centroid', 'Y_centroid']])\n",
    "adata.uns['spatial'] = {\n",
    "    'X': adata.obs['X_centroid'].values,\n",
    "    'Y': adata.obs['Y_centroid'].values\n",
    "}\n",
    "unique_image_ids = adata.obs['image_ID'].unique()\n",
    "adata.uns['spatial'] = {image_id: {} for image_id in unique_image_ids}\n",
    "sq.gr.spatial_neighbors(adata, library_key='image_ID', coord_type='generic', delaunay=True)\n",
    "cc.gr.remove_long_links(adata, distance_percentile=95)\n",
    "if dmr:\n",
    "    cc.gr.aggregate_neighbors(adata, n_layers=layers, use_rep='X_trvae')\n",
    "else:\n",
    "    cc.gr.aggregate_neighbors(adata, n_layers=layers)"
   ]
  },
  {
   "cell_type": "code",
   "execution_count": null,
   "metadata": {},
   "outputs": [],
   "source": [
    "gmm = cc.tl.Cluster(\n",
    "    n_clusters=n, \n",
    "    random_state=42,\n",
    "    trainer_params={'accelerator':'cpu',\n",
    "                    'devices': 'auto',\n",
    "                    'enable_progress_bar': True}\n",
    ")\n",
    "gmm.fit(adata, use_rep='X_cellcharter')\n",
    "adata.obs[f'cellcharterCN{n}'] = gmm.predict(adata, use_rep='X_cellcharter')\n",
    "adata.write_h5ad(f'{save_path}/adata_cellcharterCN{n}.h5ad')"
   ]
  }
 ],
 "metadata": {
  "kernelspec": {
   "display_name": "cellcharter_scarches",
   "language": "python",
   "name": "python3"
  },
  "language_info": {
   "codemirror_mode": {
    "name": "ipython",
    "version": 3
   },
   "file_extension": ".py",
   "mimetype": "text/x-python",
   "name": "python",
   "nbconvert_exporter": "python",
   "pygments_lexer": "ipython3",
   "version": "3.9.20"
  }
 },
 "nbformat": 4,
 "nbformat_minor": 2
}
