{
 "cells": [
  {
   "cell_type": "code",
   "execution_count": null,
   "metadata": {},
   "outputs": [],
   "source": [
    "import squidpy as sq\n",
    "import cellcharter as cc\n",
    "import scanpy as sc\n",
    "import anndata as ad\n",
    "import numpy as np\n",
    "import pandas as pd\n",
    "import matplotlib.pyplot as plt\n",
    "import seaborn as sns\n",
    "import torch\n",
    "import scarches as sca\n",
    "from lightning.pytorch import seed_everything\n",
    "seed_everything(42)\n",
    "sc._settings.ScanpyConfig.n_jobs = -1"
   ]
  },
  {
   "cell_type": "code",
   "execution_count": null,
   "metadata": {},
   "outputs": [],
   "source": [
    "adata = ad.read_h5ad(\"/Users/lukashat/Documents/PhD_Schapiro/Projects/Myeloma_Standal/results/standard/adatas/cells_annotated_pp_osteocytes_cleaned.h5ad\")\n",
    "sc.pp.scale(adata)\n",
    "adata.X = adata.X.astype(np.float32).copy()\n",
    "condition_key = 'patient_ID'\n",
    "cell_type_key = 'Phenotype3'\n",
    "conditions = adata.obs[condition_key].unique().tolist()"
   ]
  },
  {
   "cell_type": "code",
   "execution_count": null,
   "metadata": {},
   "outputs": [],
   "source": [
    "#Code for the initial trvae model\n",
    "trvae_epochs = 500\n",
    "surgery_epochs = 500\n",
    "\n",
    "early_stopping_kwargs = {\n",
    "    \"early_stopping_metric\": \"val_unweighted_loss\",\n",
    "    \"threshold\": 0,\n",
    "    \"patience\": 20,\n",
    "    \"reduce_lr\": True,\n",
    "    \"lr_patience\": 13,\n",
    "    \"lr_factor\": 0.1,\n",
    "}\n",
    "trvae = cc.tl.TRVAE(\n",
    "    adata=adata,\n",
    "    condition_key=condition_key,\n",
    "    conditions=conditions,\n",
    "    recon_loss='mse',\n",
    "    use_mmd=False,\n",
    ")\n",
    "trvae.train(\n",
    "    n_epochs=trvae_epochs,\n",
    "    alpha_epoch_anneal=200,\n",
    "    early_stopping_kwargs=early_stopping_kwargs,\n",
    "    enable_progress_bar=True,\n",
    "    \n",
    ")\n",
    "trvae.save('/Users/lukashat/Documents/PhD_Schapiro/Projects/Myeloma_Standal/github/myeloma_standal/src/downstream/advanced_neighborhood/cellcharter/trvae_scaled', overwrite=True)"
   ]
  },
  {
   "cell_type": "code",
   "execution_count": null,
   "metadata": {},
   "outputs": [],
   "source": [
    "model = cc.tl.TRVAE.load(\n",
    "    '/Users/lukashat/Documents/PhD_Schapiro/Projects/Myeloma_Standal/github/myeloma_standal/src/downstream/advanced_neighborhood/cellcharter/trvae_nonscaled', \n",
    "    adata, \n",
    "    map_location='cpu'\n",
    ")"
   ]
  },
  {
   "cell_type": "code",
   "execution_count": null,
   "metadata": {},
   "outputs": [],
   "source": [
    "adata.obsm['X_trvae']= model.get_latent(adata.X, adata.obs['patient_ID'])"
   ]
  },
  {
   "cell_type": "code",
   "execution_count": null,
   "metadata": {},
   "outputs": [],
   "source": [
    "adata.obsm['spatial'] = np.array(adata.obs[['X_centroid', 'Y_centroid']])\n",
    "adata.uns['spatial'] = {\n",
    "    'X': adata.obs['X_centroid'].values,\n",
    "    'Y': adata.obs['Y_centroid'].values\n",
    "}\n",
    "unique_image_ids = adata.obs['image_ID'].unique()\n",
    "adata.uns['spatial'] = {image_id: {} for image_id in unique_image_ids}"
   ]
  },
  {
   "cell_type": "code",
   "execution_count": null,
   "metadata": {},
   "outputs": [],
   "source": [
    "sq.gr.spatial_neighbors(adata, library_key='image_ID', coord_type='generic', delaunay=True)"
   ]
  },
  {
   "cell_type": "code",
   "execution_count": null,
   "metadata": {},
   "outputs": [],
   "source": [
    "sq.pl.spatial_scatter(\n",
    "    adata, \n",
    "    color='image_ID', \n",
    "    library_key='image_ID', \n",
    "    img=None, \n",
    "    title=['TS-373_IMC77_B_001.csv'],\n",
    "    size=6,\n",
    "    connectivity_key='spatial_connectivities',\n",
    "    edges_width=0.3,\n",
    "    legend_loc=None,\n",
    "    library_id=['TS-373_IMC77_B_001.csv']\n",
    "    )"
   ]
  },
  {
   "cell_type": "code",
   "execution_count": null,
   "metadata": {},
   "outputs": [],
   "source": [
    "sq.pl.spatial_scatter(\n",
    "    adata, \n",
    "    color='image_ID', \n",
    "    library_key='image_ID', \n",
    "    img=None, \n",
    "    title=['TS-373_IMC26_B_001.csv'],\n",
    "    size=6,\n",
    "    connectivity_key='spatial_connectivities',\n",
    "    edges_width=0.3,\n",
    "    legend_loc=None,\n",
    "    library_id=['TS-373_IMC26_B_001.csv']\n",
    "    )"
   ]
  },
  {
   "cell_type": "code",
   "execution_count": null,
   "metadata": {},
   "outputs": [],
   "source": [
    "cc.gr.remove_long_links(adata, distance_percentile=95)"
   ]
  },
  {
   "cell_type": "code",
   "execution_count": null,
   "metadata": {},
   "outputs": [],
   "source": [
    "sq.pl.spatial_scatter(\n",
    "    adata, \n",
    "    color='image_ID', \n",
    "    library_key='image_ID', \n",
    "    img=None, \n",
    "    title=['TS-373_IMC77_B_001.csv'],\n",
    "    size=6,\n",
    "    connectivity_key='spatial_connectivities',\n",
    "    edges_width=0.3,\n",
    "    legend_loc=None,\n",
    "    library_id=['TS-373_IMC77_B_001.csv']\n",
    "    )"
   ]
  },
  {
   "cell_type": "code",
   "execution_count": null,
   "metadata": {},
   "outputs": [],
   "source": [
    "sq.pl.spatial_scatter(\n",
    "    adata, \n",
    "    color='image_ID', \n",
    "    library_key='image_ID', \n",
    "    img=None, \n",
    "    title=['TS-373_IMC26_B_001.csv'],\n",
    "    size=6,\n",
    "    connectivity_key='spatial_connectivities',\n",
    "    edges_width=0.3,\n",
    "    legend_loc=None,\n",
    "    library_id=['TS-373_IMC26_B_001.csv']\n",
    "    )"
   ]
  },
  {
   "cell_type": "code",
   "execution_count": null,
   "metadata": {},
   "outputs": [],
   "source": [
    "cc.gr.aggregate_neighbors(adata, n_layers=3)"
   ]
  },
  {
   "cell_type": "code",
   "execution_count": null,
   "metadata": {},
   "outputs": [],
   "source": [
    "model_params = {\n",
    "        'random_state': 42,\n",
    "        'trainer_params': {\n",
    "            'accelerator':'cpu',\n",
    "            'enable_progress_bar': False\n",
    "        },\n",
    "    }"
   ]
  },
  {
   "cell_type": "code",
   "execution_count": null,
   "metadata": {},
   "outputs": [],
   "source": [
    "autok = cc.tl.ClusterAutoK(n_clusters=(4,20), model_class=cc.tl.GaussianMixture, \n",
    "                           model_params=model_params, \n",
    "                           max_runs=5)\n"
   ]
  },
  {
   "cell_type": "code",
   "execution_count": null,
   "metadata": {},
   "outputs": [],
   "source": [
    "autok.fit(adata, use_rep='X_cellcharter')"
   ]
  },
  {
   "cell_type": "code",
   "execution_count": null,
   "metadata": {},
   "outputs": [],
   "source": [
    "ax = cc.pl.autok_stability(autok, return_ax=True)\n",
    "ax.figure.set_size_inches(12, 6)  "
   ]
  },
  {
   "cell_type": "code",
   "execution_count": null,
   "metadata": {},
   "outputs": [],
   "source": [
    "autok.best_k"
   ]
  },
  {
   "cell_type": "code",
   "execution_count": null,
   "metadata": {},
   "outputs": [],
   "source": [
    "autok.save(\"/Users/lukashat/Documents/PhD_Schapiro/Projects/Myeloma_Standal/results/downstream/neighborhoods/cellcharter_manual/autok_dmr_scale_layer3\")"
   ]
  }
 ],
 "metadata": {
  "kernelspec": {
   "display_name": "cellcharter_scarches",
   "language": "python",
   "name": "python3"
  },
  "language_info": {
   "codemirror_mode": {
    "name": "ipython",
    "version": 3
   },
   "file_extension": ".py",
   "mimetype": "text/x-python",
   "name": "python",
   "nbconvert_exporter": "python",
   "pygments_lexer": "ipython3",
   "version": "3.9.20"
  }
 },
 "nbformat": 4,
 "nbformat_minor": 2
}
