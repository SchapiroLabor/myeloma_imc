{
 "cells": [
  {
   "cell_type": "code",
   "execution_count": null,
   "metadata": {},
   "outputs": [],
   "source": [
    "import cellcharter as cc\n",
    "import numpy as np\n",
    "import matplotlib.pyplot as plt\n",
    "import matplotlib.patches as mpatches\n",
    "import pandas as pd\n",
    "import seaborn as sns\n",
    "import scanpy as sc\n",
    "import anndata as ad\n",
    "import squidpy as sq\n",
    "import os"
   ]
  },
  {
   "cell_type": "code",
   "execution_count": null,
   "metadata": {},
   "outputs": [],
   "source": [
    "extension = 'png'\n",
    "save_path = f'/Users/lukashat/Documents/PhD_Schapiro/Projects/Myeloma_Standal/paper/plots/figure_6_exploration/{extension}/'\n",
    "plt.rcParams['figure.dpi'] = 100\n",
    "plt.rcParams['savefig.dpi'] = 300\n",
    "adata = ad.read_h5ad(\"/Users/lukashat/Documents/PhD_Schapiro/Projects/Myeloma_Standal/results/standard/adatas/cells_current_clr_sample_pp.h5ad\")"
   ]
  },
  {
   "cell_type": "code",
   "execution_count": null,
   "metadata": {},
   "outputs": [],
   "source": [
    "sq.pl.spatial_scatter(\n",
    "    adata, \n",
    "    color=f'cellcharter_CN', \n",
    "    library_key='image_ID', \n",
    "    img=None, \n",
    "    title=['TS-373_IMC26_B_001.csv'],\n",
    "    size=4,\n",
    "    library_id=['TS-373_IMC26_B_001.csv'],\n",
    "    dpi=100)\n",
    "sq.pl.spatial_scatter(\n",
    "    adata, \n",
    "    color=f'Phenotype3', \n",
    "    library_key='image_ID', \n",
    "    img=None, \n",
    "    title=['TS-373_IMC26_B_001.csv'],\n",
    "    size=4,\n",
    "    library_id=['TS-373_IMC26_B_001.csv'],\n",
    "    dpi=100)"
   ]
  },
  {
   "cell_type": "code",
   "execution_count": null,
   "metadata": {},
   "outputs": [],
   "source": [
    "# neighborhood_colors = adata.uns['cellcharter_CN_colors']\n",
    "# phenotype_colors = adata.uns['Phenotype3_colors']\n",
    "md = pd.read_csv('/Users/lukashat/Documents/PhD_Schapiro/Projects/Myeloma_Standal/metadata/metadata.csv')\n",
    "md = md[md['Cohort'].isin(['B', 'UB'])]\n",
    "adata = adata[adata.obs['patient_ID'].isin(md['IMC label'])]"
   ]
  },
  {
   "cell_type": "code",
   "execution_count": null,
   "metadata": {},
   "outputs": [],
   "source": [
    "adata.obs['PFS_group'] = adata.obs['patient_ID'].map(md.set_index('IMC label')['Short_long PFS (< or >  2 yrs)'])\n",
    "adata.obs['PFS_group'] = adata.obs['PFS_group'].astype('category')"
   ]
  },
  {
   "cell_type": "markdown",
   "metadata": {},
   "source": [
    "# Diff. NBH enrichment between PFS groups"
   ]
  },
  {
   "cell_type": "code",
   "execution_count": null,
   "metadata": {},
   "outputs": [],
   "source": [
    "cc.gr.diff_nhood_enrichment(\n",
    "    adata,\n",
    "    cluster_key=f'cellcharter_CN',\n",
    "    condition_key='PFS_group',\n",
    "    library_key='image_ID',\n",
    ")"
   ]
  },
  {
   "cell_type": "code",
   "execution_count": null,
   "metadata": {},
   "outputs": [],
   "source": [
    "cc.pl.diff_nhood_enrichment(\n",
    "    adata,\n",
    "    cluster_key=f'cellcharter_CN',\n",
    "    condition_key='PFS_group',\n",
    "    condition_groups=['long_PFS', 'short_PFS'],\n",
    "    figsize=(4,4),\n",
    "    fontsize=12,\n",
    "    save = os.path.join(save_path, 'diff_nhood_enrichment.png')\n",
    ")"
   ]
  },
  {
   "cell_type": "markdown",
   "metadata": {},
   "source": [
    "# Lets take specific cellcharter nbh enrichment scores per patient"
   ]
  },
  {
   "cell_type": "code",
   "execution_count": null,
   "metadata": {},
   "outputs": [],
   "source": [
    "cc.gr.nhood_enrichment(\n",
    "    adata,\n",
    "    cluster_key='cellcharter_CN',\n",
    "    pvalues=True,\n",
    "    n_jobs=8,\n",
    "    n_perms=250\n",
    ")"
   ]
  },
  {
   "cell_type": "code",
   "execution_count": null,
   "metadata": {},
   "outputs": [],
   "source": [
    "cc.pl.nhood_enrichment(\n",
    "    adata,\n",
    "    cluster_key='cellcharter_CN',\n",
    "    annotate=True,\n",
    "    figsize=(4,4),\n",
    "    significance=0.05,\n",
    "    fontsize=12,\n",
    "    vmax=0.03208789256832183,\n",
    "    vmin=-0.03208789256832183\n",
    ")"
   ]
  },
  {
   "cell_type": "code",
   "execution_count": null,
   "metadata": {},
   "outputs": [],
   "source": [
    "score_categories = ['adaptive_immune*bone_vasculature', 'adaptive_immune*focal_pc_oxphos', 'focal_pc_oxphos*stroma_adipocyte',\n",
    "                    'pc_myeloid*focal_pc_oxphos', 'bone_vasculature*focal_pc_oxphos', 'hypoxic_immune*focal_pc_oxphos']\n",
    "def add_patient(patient_id):\n",
    "    score_dict[patient_id] = {category: [] for category in score_categories}\n",
    "score_dict = {}"
   ]
  },
  {
   "cell_type": "code",
   "execution_count": null,
   "metadata": {},
   "outputs": [],
   "source": [
    "for patient in md['IMC label'].unique():\n",
    "    add_patient(patient)\n",
    "    adata_subset = adata[adata.obs['patient_ID'] == patient].copy()\n",
    "    cc.gr.nhood_enrichment(\n",
    "        adata_subset,\n",
    "        cluster_key='cellcharter_CN',\n",
    "    )\n",
    "    for category in score_categories:\n",
    "        index_nbh1, index_nbh2 = category.split('*')\n",
    "        score_dict[patient][category] = pd.DataFrame(adata_subset.uns['cellcharter_CN_nhood_enrichment']['enrichment']).loc[index_nbh1, index_nbh2]\n",
    "    del adata_subset\n"
   ]
  },
  {
   "cell_type": "code",
   "execution_count": null,
   "metadata": {},
   "outputs": [],
   "source": [
    "df = pd.DataFrame(score_dict).T\n",
    "df['patient_ID'] = df.index\n",
    "pfs_mappping = adata.obs[['PFS_group', 'patient_ID']].drop_duplicates()\n",
    "pfs_mappping.set_index('patient_ID', inplace=True)\n",
    "df['pfs'] = df['patient_ID'].map(pfs_mappping['PFS_group'])\n",
    "df.dropna(inplace=True)\n",
    "df.sort_values('pfs', inplace=True)\n",
    "df.set_index('patient_ID', inplace=True)\n",
    "df"
   ]
  },
  {
   "cell_type": "code",
   "execution_count": null,
   "metadata": {},
   "outputs": [],
   "source": [
    "df[df['pfs'] == 'short_PFS']"
   ]
  },
  {
   "cell_type": "code",
   "execution_count": null,
   "metadata": {},
   "outputs": [],
   "source": [
    "df.to_csv('/Users/lukashat/Documents/PhD_Schapiro/Projects/Myeloma_Standal/github/myeloma_standal/src/downstream/clinical_correlation/nhood_enrichment_patients.csv')"
   ]
  },
  {
   "cell_type": "code",
   "execution_count": null,
   "metadata": {},
   "outputs": [],
   "source": []
  }
 ],
 "metadata": {
  "kernelspec": {
   "display_name": "cellcharter_scarches",
   "language": "python",
   "name": "python3"
  },
  "language_info": {
   "codemirror_mode": {
    "name": "ipython",
    "version": 3
   },
   "file_extension": ".py",
   "mimetype": "text/x-python",
   "name": "python",
   "nbconvert_exporter": "python",
   "pygments_lexer": "ipython3",
   "version": "3.9.20"
  }
 },
 "nbformat": 4,
 "nbformat_minor": 2
}
