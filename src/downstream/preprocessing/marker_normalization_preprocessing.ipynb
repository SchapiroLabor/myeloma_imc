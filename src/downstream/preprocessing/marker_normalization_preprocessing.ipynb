{
 "cells": [
  {
   "cell_type": "code",
   "execution_count": 1,
   "metadata": {},
   "outputs": [
    {
     "name": "stderr",
     "output_type": "stream",
     "text": [
      "/Users/lukashat/miniforge3/envs/cellcharter_scarches/lib/python3.9/site-packages/tqdm/auto.py:21: TqdmWarning: IProgress not found. Please update jupyter and ipywidgets. See https://ipywidgets.readthedocs.io/en/stable/user_install.html\n",
      "  from .autonotebook import tqdm as notebook_tqdm\n",
      "WARNING:root:In order to use sagenet models, please install pytorch geometric (see https://pytorch-geometric.readthedocs.io) and \n",
      " captum (see https://github.com/pytorch/captum).\n",
      "WARNING:root:mvTCR is not installed. To use mvTCR models, please install it first using \"pip install mvtcr\"\n",
      "WARNING:root:multigrate is not installed. To use multigrate models, please install it first using \"pip install multigrate\".\n"
     ]
    },
    {
     "ename": "ModuleNotFoundError",
     "evalue": "No module named 'glasbey'",
     "output_type": "error",
     "traceback": [
      "\u001b[0;31m---------------------------------------------------------------------------\u001b[0m",
      "\u001b[0;31mModuleNotFoundError\u001b[0m                       Traceback (most recent call last)",
      "Cell \u001b[0;32mIn[1], line 12\u001b[0m\n\u001b[1;32m     10\u001b[0m \u001b[38;5;28;01mimport\u001b[39;00m \u001b[38;5;21;01mmatplotlib\u001b[39;00m\u001b[38;5;21;01m.\u001b[39;00m\u001b[38;5;21;01mpyplot\u001b[39;00m \u001b[38;5;28;01mas\u001b[39;00m \u001b[38;5;21;01mplt\u001b[39;00m\n\u001b[1;32m     11\u001b[0m \u001b[38;5;28;01mfrom\u001b[39;00m \u001b[38;5;21;01mmatplotlib\u001b[39;00m\u001b[38;5;21;01m.\u001b[39;00m\u001b[38;5;21;01mcolors\u001b[39;00m \u001b[38;5;28;01mimport\u001b[39;00m ListedColormap\n\u001b[0;32m---> 12\u001b[0m \u001b[38;5;28;01mimport\u001b[39;00m \u001b[38;5;21;01mglasbey\u001b[39;00m\n\u001b[1;32m     13\u001b[0m \u001b[38;5;28;01mfrom\u001b[39;00m \u001b[38;5;21;01mtol_colors\u001b[39;00m \u001b[38;5;28;01mimport\u001b[39;00m tol\n\u001b[1;32m     14\u001b[0m \u001b[38;5;28;01mimport\u001b[39;00m \u001b[38;5;21;01mseaborn\u001b[39;00m \u001b[38;5;28;01mas\u001b[39;00m \u001b[38;5;21;01msns\u001b[39;00m\n",
      "\u001b[0;31mModuleNotFoundError\u001b[0m: No module named 'glasbey'"
     ]
    }
   ],
   "source": [
    "import numpy as np\n",
    "import pandas as pd\n",
    "import scanpy as sc\n",
    "import anndata as ad\n",
    "import squidpy as sq\n",
    "import json\n",
    "import muon as mu\n",
    "import cellcharter as cc\n",
    "import json\n",
    "import matplotlib.pyplot as plt\n",
    "from matplotlib.colors import ListedColormap\n",
    "import glasbey\n",
    "from tol_colors import tol\n",
    "import seaborn as sns"
   ]
  },
  {
   "cell_type": "markdown",
   "metadata": {},
   "source": [
    "# Using CLR form muon"
   ]
  },
  {
   "cell_type": "code",
   "execution_count": 3,
   "metadata": {},
   "outputs": [],
   "source": [
    "adata = ad.read_h5ad(\"/Users/lukashat/Documents/PhD_Schapiro/Projects/Myeloma_Standal/results/standard/adatas/cells_final.h5ad\")"
   ]
  },
  {
   "cell_type": "code",
   "execution_count": 17,
   "metadata": {},
   "outputs": [],
   "source": [
    "adata.X = adata.layers['arcsinh']"
   ]
  },
  {
   "cell_type": "code",
   "execution_count": null,
   "metadata": {},
   "outputs": [],
   "source": [
    "mu.prot.pp.clr(adata, axis=1) #per cell normalization for intra-celltype comparisons"
   ]
  },
  {
   "cell_type": "code",
   "execution_count": null,
   "metadata": {},
   "outputs": [],
   "source": [
    "adata_clr.X"
   ]
  },
  {
   "cell_type": "code",
   "execution_count": null,
   "metadata": {},
   "outputs": [],
   "source": [
    "adata_clr.write_h5ad(\"/Users/lukashat/Documents/PhD_Schapiro/Projects/Myeloma_Standal/results/standard/adatas/cells_current_clr_sample.h5ad\")"
   ]
  },
  {
   "cell_type": "markdown",
   "metadata": {},
   "source": [
    "# Preprocess"
   ]
  },
  {
   "cell_type": "code",
   "execution_count": null,
   "metadata": {},
   "outputs": [],
   "source": [
    "adata = ad.read_h5ad(\"/Users/lukashat/Documents/PhD_Schapiro/Projects/Myeloma_Standal/results/standard/adatas/cells_current_clr_sample.h5ad\")\n",
    "adata.obsm['spatial'] = np.array(adata.obs[['X_centroid', 'Y_centroid']])\n",
    "adata.uns['spatial'] = {\n",
    "    'X': adata.obs['X_centroid'].values,\n",
    "    'Y': adata.obs['Y_centroid'].values\n",
    "}\n",
    "unique_image_ids = adata.obs['image_ID'].unique()\n",
    "adata.uns['spatial'] = {image_id: {} for image_id in unique_image_ids}\n",
    "sq.gr.spatial_neighbors(adata, library_key='image_ID', coord_type='generic', delaunay=True)\n",
    "cc.gr.remove_long_links(adata, distance_percentile=95)\n",
    "adata.obs['disease3'] = adata.obs['disease2']\n",
    "adata.obs['disease3'] = adata.obs['disease3'].astype(str)\n",
    "adata.obs['disease3'] = adata.obs['disease3'].replace(['MM_BD', 'MM_noBD'], 'MM')\n",
    "adata.obs['disease3'] = adata.obs['disease3'].astype('category')\n"
   ]
  },
  {
   "cell_type": "code",
   "execution_count": null,
   "metadata": {},
   "outputs": [],
   "source": [
    "adata.write_h5ad(\"/Users/lukashat/Documents/PhD_Schapiro/Projects/Myeloma_Standal/results/standard/adatas/cells_current_clr_sample_pp.h5ad\")"
   ]
  },
  {
   "cell_type": "markdown",
   "metadata": {},
   "source": [
    "# Final celltype nad NBH renaming"
   ]
  },
  {
   "cell_type": "code",
   "execution_count": null,
   "metadata": {},
   "outputs": [],
   "source": [
    "adata = ad.read_h5ad(\"/Users/lukashat/Documents/PhD_Schapiro/Projects/Myeloma_Standal/results/standard/adatas/cells_current_clr_sample_pp.h5ad\")"
   ]
  },
  {
   "cell_type": "code",
   "execution_count": null,
   "metadata": {},
   "outputs": [],
   "source": [
    "adata.obs['Phenotype4'].value_counts()"
   ]
  },
  {
   "cell_type": "code",
   "execution_count": null,
   "metadata": {},
   "outputs": [],
   "source": [
    "adata.obs['Phenotype4'] = adata.obs['Phenotype4'].astype(str)\n",
    "adata.obs['Phenotype4'] = adata.obs['Phenotype4'].replace({'CD4+Tcells': 'CD4 T', 'CD8+Tcells': 'CD8 T', 'Dendritic Cells': 'DCs', 'Endothelial cells': 'Endothelial',\n",
    "                                                           'HSCs': 'HSPCs', 'Macrophages/Monocytes': 'Macs/monos', 'activated Macrophages/Monocytes': 'HLA-DR+ Macs/monos',\n",
    "                                                           'Osteoblast lineage': 'OB/RUNX2+', 'Osteocyte': 'Osteocytes', 'Plasma Cells/MM cells': 'PCs'})\n",
    "adata.obs['Phenotype4'] = adata.obs['Phenotype4'].astype('category')\n",
    "adata.obs['Phenotype4'].value_counts()"
   ]
  },
  {
   "cell_type": "code",
   "execution_count": null,
   "metadata": {},
   "outputs": [],
   "source": [
    "adata.obs['cellcharter_CN'].value_counts()"
   ]
  },
  {
   "cell_type": "code",
   "execution_count": null,
   "metadata": {},
   "outputs": [],
   "source": [
    "adata.obs['cellcharter_CN'] = adata.obs['cellcharter_CN'].astype(str)\n",
    "adata.obs['cellcharter_CN'] = adata.obs['cellcharter_CN'].replace({'pc_myeloid':'PC_MYELOID', 'hypoxic_immune': 'HIF1A_IMMUNE', 'proliferating_glycolytic': 'PROLIF_GLYC',\n",
    "                                                                   'focal_pc_oxphos': 'PC_OXPHOS', 'stroma_adipocyte': 'ADIPOCYTES_PC', 'bone_myeloid': 'BONE_MYELOID',\n",
    "                                                                   'bone_vasculature': 'BONE_VASCULATURE','adaptive_immune': 'ADAPTIVE_IMMUNE', 'bone': 'BONE_ADIPOCYTES'})\n",
    "adata.obs['cellcharter_CN'] = adata.obs['cellcharter_CN'].astype('category')\n",
    "adata.obs['cellcharter_CN'].value_counts()"
   ]
  },
  {
   "cell_type": "code",
   "execution_count": null,
   "metadata": {},
   "outputs": [],
   "source": [
    "adata.obs.drop(['Phenotype', 'Phenotype2', 'Phenotype3'], axis=1, inplace=True)"
   ]
  },
  {
   "cell_type": "code",
   "execution_count": null,
   "metadata": {},
   "outputs": [],
   "source": [
    "adata.write_h5ad(\"/Users/lukashat/Documents/PhD_Schapiro/Projects/Myeloma_Standal/results/standard/adatas/cells_final.h5ad\")"
   ]
  },
  {
   "cell_type": "code",
   "execution_count": null,
   "metadata": {},
   "outputs": [],
   "source": [
    "adata.obs"
   ]
  },
  {
   "cell_type": "code",
   "execution_count": null,
   "metadata": {},
   "outputs": [],
   "source": []
  }
 ],
 "metadata": {
  "kernelspec": {
   "display_name": "cellcharter_scarches",
   "language": "python",
   "name": "python3"
  },
  "language_info": {
   "codemirror_mode": {
    "name": "ipython",
    "version": 3
   },
   "file_extension": ".py",
   "mimetype": "text/x-python",
   "name": "python",
   "nbconvert_exporter": "python",
   "pygments_lexer": "ipython3",
   "version": "3.9.20"
  }
 },
 "nbformat": 4,
 "nbformat_minor": 2
}
