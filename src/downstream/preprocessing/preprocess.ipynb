{
 "cells": [
  {
   "cell_type": "code",
   "execution_count": 1,
   "metadata": {},
   "outputs": [
    {
     "name": "stdout",
     "output_type": "stream",
     "text": [
      "Running SCIMAP  2.1.3\n"
     ]
    }
   ],
   "source": [
    "import numpy as np\n",
    "import anndata as ad\n",
    "import scimap as sm\n",
    "import scanpy as sc\n",
    "import pandas as pd\n",
    "import anndata as ad\n",
    "import os"
   ]
  },
  {
   "cell_type": "markdown",
   "metadata": {},
   "source": [
    "# In this NB we are preprocessing the assembled anndata object for furhter downstream analyses"
   ]
  },
  {
   "cell_type": "code",
   "execution_count": 3,
   "metadata": {},
   "outputs": [],
   "source": [
    "adata = ad.read_h5ad(\"/Users/lukashat/Documents/PhD_Schapiro/Projects/Myeloma_Standal/results/adatas/oldstandard/cells_annotated.h5ad\")"
   ]
  },
  {
   "cell_type": "markdown",
   "metadata": {},
   "source": [
    "## Filtering and censoring"
   ]
  },
  {
   "cell_type": "code",
   "execution_count": 4,
   "metadata": {},
   "outputs": [],
   "source": [
    "# Filter out unused IMC channels or non-important channels\n",
    "columns_to_remove = [' 1', ' 2', ' 3', ' 4', ' 5', 'HistoneH3', '191Ir', '193Ir', ' 6']\n",
    "mask = ~adata.var_names.isin(columns_to_remove)\n",
    "adata = adata[:, mask].copy()\n",
    "# Censor the data to the 99th percentile\n",
    "for i in range(adata.n_vars):\n",
    "    p99 = np.percentile(adata.X[:, i], 99)\n",
    "    adata.X[:, i] = np.clip(adata.X[:, i], None, p99)\n",
    "# Filter out cells with less than 4 pixels and nromalize with arcsinh function cofactor 1\n",
    "adata = adata[adata.obs[\"area\"] >= 4,:]\n",
    "adata.raw = adata\n",
    "adata.X = np.arcsinh(adata.X)\n",
    "rename_dict = {'B': 'MM_BD', 'UB': 'MM_noBD', 'MGUS': 'MGUS/SMM'}\n",
    "adata.obs['disease'] = adata.obs['disease'].map(rename_dict)"
   ]
  },
  {
   "cell_type": "markdown",
   "metadata": {},
   "source": [
    "## Mapping disease subsets"
   ]
  },
  {
   "cell_type": "code",
   "execution_count": 5,
   "metadata": {},
   "outputs": [],
   "source": [
    "# map a refined disease subgrouping\n",
    "adata.obs['disease2'] = adata.obs['disease']\n",
    "adata.obs['disease2'] = adata.obs['disease2'].astype(str)\n",
    "adata.obs.loc[adata.obs['patient_ID'] == 'IMC02', 'disease2'] = 'MGUS'\n",
    "adata.obs.loc[adata.obs['patient_ID'] == 'IMC03', 'disease2'] = 'MGUS'\n",
    "adata.obs.loc[adata.obs['patient_ID'] == 'IMC04', 'disease2'] = 'MGUS'\n",
    "adata.obs.loc[adata.obs['patient_ID'] == 'IMC72', 'disease2'] = 'MGUS'\n",
    "adata.obs.loc[adata.obs['patient_ID'] == 'IMC82', 'disease2'] = 'MGUS'\n",
    "adata.obs.loc[adata.obs['patient_ID'] == 'IMC05', 'disease2'] = 'SMM'\n",
    "adata.obs.loc[adata.obs['patient_ID'] == 'IMC16-1', 'disease2'] = 'SMM'\n",
    "adata.obs.loc[adata.obs['patient_ID'] == 'IMC18-1', 'disease2'] = 'SMM'\n",
    "adata.obs.loc[adata.obs['patient_ID'] == 'IMC37-1', 'disease2'] = 'SMM'\n",
    "adata.obs.loc[adata.obs['patient_ID'] == 'IMC41', 'disease2'] = 'SMM'\n",
    "adata.obs.loc[adata.obs['patient_ID'] == 'IMC59', 'disease2'] = 'SMM'\n",
    "adata.obs['disease2'] = adata.obs['disease2'].astype('category')"
   ]
  },
  {
   "cell_type": "markdown",
   "metadata": {},
   "source": [
    "## Integrating manually phenotyped images"
   ]
  },
  {
   "cell_type": "markdown",
   "metadata": {},
   "source": [
    "4 images have been manually phenpotyped and these phenotypes need to be integrated into the existing anndata object"
   ]
  },
  {
   "cell_type": "code",
   "execution_count": null,
   "metadata": {},
   "outputs": [],
   "source": [
    "# map manual phenptyping for 4 images\n",
    "phe_path = '/Users/lukashat/Documents/PhD_Schapiro/Projects/Myeloma_Standal/github/myeloma_standal/phenotyping/manual_rephenotyping'\n",
    "for file in os.listdir(phe_path):\n",
    "    if file.endswith('.h5ad'):\n",
    "        name = file.split('standard')[0]\n",
    "        adp = ad.read_h5ad(os.path.join(phe_path, file))\n",
    "        cell_ids = adp.obs['CellID']\n",
    "        image_ids = adp.obs['imageid']\n",
    "        image_ids_cleaned = image_ids.str.replace('phenotyping_', '', regex=False)\n",
    "        new_obs_names = ['Object {} in {}.csv'.format(cell_id, image_id) for cell_id, image_id in zip(cell_ids, image_ids_cleaned)]\n",
    "        adp.obs_names = new_obs_names\n",
    "        \n",
    "        # Adhere to the naming convention used when creating the original adata\n",
    "        adp.obs['phenotype'] = adp.obs['phenotype'].astype(str)\n",
    "        adp.obs['phenotype'] = adp.obs['phenotype'].replace({\n",
    "            'mDCs': 'Dendritic Cells',\n",
    "            'Others': 'Unknown',\n",
    "            'CD45+': 'Unknown',\n",
    "        })\n",
    "        adata.obs['Phenotype'] = adata.obs['Phenotype'].astype(str)\n",
    "\n",
    "        if not adp.obs_names.equals(adata[adata.obs['image_ID'] == name + '.csv'].obs_names):\n",
    "            for entry in  adata[adata.obs['image_ID'] == name + '.csv'].obs_names:\n",
    "                if entry not in adp.obs_names:\n",
    "                    print(entry)\n",
    "                    \n",
    "        common_indices = adp.obs_names.intersection(adata.obs_names)\n",
    "        adata.obs.loc[common_indices, 'Phenotype'] = adp.obs.loc[common_indices, 'phenotype']\n",
    "        adata.obs['Phenotype'] = adata.obs['Phenotype'].astype('category')\n",
    "        print(file)\n",
    "        print(adata.obs.loc[common_indices, 'Phenotype'].value_counts())\n",
    "        \n",
    "            "
   ]
  },
  {
   "cell_type": "code",
   "execution_count": 6,
   "metadata": {},
   "outputs": [],
   "source": [
    "adata.write_h5ad('/Users/lukashat/Documents/PhD_Schapiro/Projects/Myeloma_Standal/QC/standard/cells_annotated_pp.h5ad')"
   ]
  },
  {
   "cell_type": "markdown",
   "metadata": {},
   "source": [
    "## Creating Osteocyte Phenpotype"
   ]
  },
  {
   "cell_type": "code",
   "execution_count": 3,
   "metadata": {},
   "outputs": [],
   "source": [
    "adata_wo = ad.read_h5ad('/Users/lukashat/Documents/PhD_Schapiro/Projects/Myeloma_Standal/results/standard/old/cells_annotated_pp_osteocytes.h5ad')"
   ]
  },
  {
   "cell_type": "code",
   "execution_count": 20,
   "metadata": {},
   "outputs": [],
   "source": [
    "# Now we add Osteocytes to it using distance to bone\n",
    "adata_wo = adata.copy()\n",
    "adata_wo.obs['Phenotype2'] = adata_wo.obs['Phenotype'].astype(str)\n",
    "is_osteocyte = (adata_wo.obs['distance_to_bone'] == 0) & (adata_wo.obs['Phenotype'] != 'Osteoclasts')\n",
    "adata_wo.obs.loc[is_osteocyte, 'Phenotype2'] = 'Osteocyte'\n",
    "adata_wo.obs['Phenotype2'] = adata_wo.obs['Phenotype2'].astype('category')"
   ]
  },
  {
   "cell_type": "code",
   "execution_count": 23,
   "metadata": {},
   "outputs": [],
   "source": [
    "adata_wo.write_h5ad('/Users/lukashat/Documents/PhD_Schapiro/Projects/Myeloma_Standal/results/standard/cells_annotated_pp_osteocytes.h5ad')"
   ]
  },
  {
   "cell_type": "markdown",
   "metadata": {},
   "source": [
    "# Some patoemts need to be excluded as they received treatment"
   ]
  },
  {
   "cell_type": "code",
   "execution_count": 4,
   "metadata": {},
   "outputs": [],
   "source": [
    "excluded_patients = ['IMC10', 'IMC14', 'IMC22', 'IMC76', 'IMC79', 'IMC88']"
   ]
  },
  {
   "cell_type": "code",
   "execution_count": null,
   "metadata": {},
   "outputs": [],
   "source": [
    "adata_wo"
   ]
  },
  {
   "cell_type": "code",
   "execution_count": 8,
   "metadata": {},
   "outputs": [],
   "source": [
    "adata_wo_cleaned = adata_wo[~adata_wo.obs['patient_ID'].isin(excluded_patients), :]\n"
   ]
  },
  {
   "cell_type": "code",
   "execution_count": null,
   "metadata": {},
   "outputs": [],
   "source": [
    "adata_wo_cleaned"
   ]
  },
  {
   "cell_type": "code",
   "execution_count": 10,
   "metadata": {},
   "outputs": [],
   "source": [
    "adata_wo_cleaned.write_h5ad('/Users/lukashat/Documents/PhD_Schapiro/Projects/Myeloma_Standal/results/standard/cells_annotated_pp_osteocytes_cleaned.h5ad')"
   ]
  },
  {
   "cell_type": "markdown",
   "metadata": {},
   "source": [
    "## There had been some problem with osteocyte creation, thats why we will redefine them using dataframe and a for loop rather directly in the adata object"
   ]
  },
  {
   "cell_type": "code",
   "execution_count": 28,
   "metadata": {},
   "outputs": [],
   "source": [
    "adata = ad.read_h5ad('/Users/lukashat/Documents/PhD_Schapiro/Projects/Myeloma_Standal/results/standard/adatas/cells_annotated_pp_osteocytes_cleaned.h5ad')\n"
   ]
  },
  {
   "cell_type": "code",
   "execution_count": 29,
   "metadata": {},
   "outputs": [],
   "source": [
    "del adata.obs['Phenotype2']"
   ]
  },
  {
   "cell_type": "code",
   "execution_count": 31,
   "metadata": {},
   "outputs": [],
   "source": [
    "df = adata.obs[['Phenotype', 'distance_to_bone']].copy()\n",
    "df['Phenotype2'] = df['Phenotype'].astype(str)\n",
    "for i, row in df.iterrows():\n",
    "    if row['distance_to_bone'] == 0 and row['Phenotype'] != 'Osteoclasts':\n",
    "        df.loc[i, 'Phenotype2'] = 'Osteocyte'\n",
    "df['Phenotype2'] = df['Phenotype2'].astype('category')"
   ]
  },
  {
   "cell_type": "code",
   "execution_count": 32,
   "metadata": {},
   "outputs": [],
   "source": [
    "adata.obs['Phenotype2'] = df['Phenotype2']"
   ]
  },
  {
   "cell_type": "code",
   "execution_count": null,
   "metadata": {},
   "outputs": [],
   "source": [
    "adata.obs.dtypes"
   ]
  },
  {
   "cell_type": "code",
   "execution_count": 35,
   "metadata": {},
   "outputs": [],
   "source": [
    "adata.write_h5ad('/Users/lukashat/Documents/PhD_Schapiro/Projects/Myeloma_Standal/results/standard/adatas/cells_annotated_pp_osteocytes_cleaned.h5ad')"
   ]
  },
  {
   "cell_type": "code",
   "execution_count": null,
   "metadata": {},
   "outputs": [],
   "source": [
    "df['Phenotype2'].value_counts()"
   ]
  },
  {
   "cell_type": "code",
   "execution_count": null,
   "metadata": {},
   "outputs": [],
   "source": [
    "df['Phenotype'].value_counts()"
   ]
  },
  {
   "cell_type": "markdown",
   "metadata": {},
   "source": [
    "## Some images need to be excluded and relabeled"
   ]
  },
  {
   "cell_type": "markdown",
   "metadata": {},
   "source": [
    "IMC37: IMC37.2 and onwards exlcuded because they received treatment\n",
    "IMC79-1: Received treatment\n",
    "IMC08: BD instead of noBD\n",
    "IMC18-2: BD instead of noBD"
   ]
  },
  {
   "cell_type": "code",
   "execution_count": 36,
   "metadata": {},
   "outputs": [],
   "source": [
    "adata = ad.read_h5ad('/Users/lukashat/Documents/PhD_Schapiro/Projects/Myeloma_Standal/results/standard/adatas/cells_annotated_pp_osteocytes_cleaned.h5ad')"
   ]
  },
  {
   "cell_type": "code",
   "execution_count": null,
   "metadata": {},
   "outputs": [],
   "source": [
    "adata.obs['disease'].value_counts()"
   ]
  },
  {
   "cell_type": "code",
   "execution_count": null,
   "metadata": {},
   "outputs": [],
   "source": [
    "adata[adata.obs['patient_ID'] == 'IMC18-2']"
   ]
  },
  {
   "cell_type": "code",
   "execution_count": 38,
   "metadata": {},
   "outputs": [],
   "source": [
    "relabel = ['IMC08', 'IMC18-2']\n",
    "mask = adata.obs['patient_ID'].isin(relabel)\n",
    "adata.obs.loc[mask, 'disease'] = 'MM_BD'\n",
    "adata.obs.loc[mask, 'disease2'] = 'MM_BD'"
   ]
  },
  {
   "cell_type": "code",
   "execution_count": 40,
   "metadata": {},
   "outputs": [],
   "source": [
    "# Saving before dropping more patients\n",
    "adata.write_h5ad('/Users/lukashat/Documents/PhD_Schapiro/Projects/Myeloma_Standal/results/standard/adatas/cells_annotated_pp_osteocytes_cleaned_241029.h5ad')"
   ]
  },
  {
   "cell_type": "code",
   "execution_count": 41,
   "metadata": {},
   "outputs": [],
   "source": [
    "to_drop = ['IMC37-2', 'IMC37-3', 'IMC37-4', 'IMC79-1']\n",
    "adata = adata[~adata.obs['patient_ID'].isin(to_drop), :]"
   ]
  },
  {
   "cell_type": "code",
   "execution_count": 43,
   "metadata": {},
   "outputs": [],
   "source": [
    "adata.write_h5ad('/Users/lukashat/Documents/PhD_Schapiro/Projects/Myeloma_Standal/results/standard/adatas/cells_annotated_pp_osteocytes_cleaned.h5ad')"
   ]
  },
  {
   "cell_type": "markdown",
   "metadata": {},
   "source": [
    "## Producing a new cohort with just Myeloma vs MGUS/SMM"
   ]
  },
  {
   "cell_type": "code",
   "execution_count": 3,
   "metadata": {},
   "outputs": [],
   "source": [
    "adata = ad.read_h5ad('/Users/lukashat/Documents/PhD_Schapiro/Projects/Myeloma_Standal/results/standard/adatas/cells_annotated_pp_osteocytes_cleaned.h5ad')"
   ]
  },
  {
   "cell_type": "code",
   "execution_count": null,
   "metadata": {},
   "outputs": [],
   "source": [
    "adata.obs['disease3'] = adata.obs['disease2'].replace(['MM_noBD', 'MM_BD'], 'MM')"
   ]
  },
  {
   "cell_type": "code",
   "execution_count": null,
   "metadata": {},
   "outputs": [],
   "source": [
    "adata.obs['disease3'].value_counts()"
   ]
  },
  {
   "cell_type": "code",
   "execution_count": 11,
   "metadata": {},
   "outputs": [],
   "source": [
    "adata.write_h5ad('/Users/lukashat/Documents/PhD_Schapiro/Projects/Myeloma_Standal/results/standard/adatas/myeloma_cohort.h5ad')"
   ]
  },
  {
   "cell_type": "markdown",
   "metadata": {},
   "source": [
    "## Using classifier determined positivity to correct macrophage labels in tumor nests"
   ]
  },
  {
   "cell_type": "code",
   "execution_count": 23,
   "metadata": {},
   "outputs": [],
   "source": [
    "adata = ad.read_h5ad('/Users/lukashat/Documents/PhD_Schapiro/Projects/Myeloma_Standal/results/standard/adatas/cells_thresholds_scanorama.h5ad') #less strict\n",
    "adata2 = ad.read_h5ad('/Users/lukashat/Documents/PhD_Schapiro/Projects/Myeloma_Standal/results/standard/adatas/cells_thresholds_scanorama2.h5ad') #stricter\n",
    "adata_f = ad.read_h5ad('/Users/lukashat/Documents/PhD_Schapiro/Projects/Myeloma_Standal/results/standard/adatas/cells_annotated_pp_osteocytes_cleaned_nbh.h5ad')\n",
    "sc.pp.scale(adata_f)\n",
    "adata.obs['Phenotype5'] = adata.obs['Phenotype3']\n",
    "adata2.obs['Phenotype5'] = adata2.obs['Phenotype3']\n",
    "adata_f.obs['Phenotype5'] = adata_f.obs['Phenotype3']\n",
    "adata.obs['Phenotype5'] = adata.obs['Phenotype5'].astype(str)\n",
    "adata2.obs['Phenotype5'] = adata2.obs['Phenotype5'].astype(str)\n",
    "adata_f.obs['Phenotype5'] = adata_f.obs['Phenotype5'].astype(str)\n",
    "# For adata2 only the one image\n",
    "mask2 = (\n",
    "    (adata2.obs['CD68_counts'] == 1)\n",
    "    & (adata2.obs['IRF4_counts'] == 0)\n",
    "    & (adata2.obs['image_ID'] == 'TS-373_IMC21_UB_002.csv')\n",
    "    & (adata2.obs['Phenotype5'] == 'Plasma Cells/MM cells')\n",
    ")\n",
    "adata2.obs.loc[mask2, 'Phenotype5'] = 'Plasma Cells/MM cells_CD68_2'\n",
    "mask1 = (\n",
    "    (adata.obs['CD68_counts'] == 1)\n",
    "    & (adata.obs['IRF4_counts'] == 0)\n",
    "    & (adata.obs['image_ID'] != 'TS-373_IMC21_UB_002.cs')\n",
    "    & (adata.obs['Phenotype5'] == 'Plasma Cells/MM cells')\n",
    ")\n",
    "adata.obs.loc[mask1, 'Phenotype5'] = 'Plasma Cells/MM cells_CD68'\n",
    "adata.obs.loc[adata.obs['image_ID'] == 'TS-373_IMC21_UB_002.csv', 'Phenotype5'] = adata2.obs.loc[adata2.obs['image_ID'] == 'TS-373_IMC21_UB_002.csv', 'Phenotype5']"
   ]
  },
  {
   "cell_type": "code",
   "execution_count": 24,
   "metadata": {},
   "outputs": [
    {
     "data": {
      "text/plain": [
       "Phenotype5\n",
       "Plasma Cells/MM cells              352618\n",
       "Neutrophils                        213151\n",
       "Unknown                            142719\n",
       "MPO+                                60363\n",
       "CD8+Tcells                          47374\n",
       "Macrophages/Monocytes               32662\n",
       "CD4+Tcells                          32509\n",
       "Endothelial cells                   27625\n",
       "activated Macrophages/Monocytes     26916\n",
       "CD68+                               25101\n",
       "HSCs                                18576\n",
       "Adipocytes                          15427\n",
       "Dendritic Cells                     10355\n",
       "Osteoblasts                          5884\n",
       "Osteocyte                            5679\n",
       "Osteoclasts                          1088\n",
       "Plasma Cells/MM cells_CD68_2          533\n",
       "Name: count, dtype: int64"
      ]
     },
     "execution_count": 24,
     "metadata": {},
     "output_type": "execute_result"
    }
   ],
   "source": [
    "adata2.obs['Phenotype5'].value_counts()"
   ]
  },
  {
   "cell_type": "code",
   "execution_count": 25,
   "metadata": {},
   "outputs": [
    {
     "data": {
      "text/plain": [
       "Phenotype5\n",
       "Plasma Cells/MM cells              336820\n",
       "Neutrophils                        213151\n",
       "Unknown                            142719\n",
       "MPO+                                60363\n",
       "CD8+Tcells                          47374\n",
       "Macrophages/Monocytes               32662\n",
       "CD4+Tcells                          32509\n",
       "Endothelial cells                   27625\n",
       "activated Macrophages/Monocytes     26916\n",
       "CD68+                               25101\n",
       "HSCs                                18576\n",
       "Plasma Cells/MM cells_CD68          15798\n",
       "Adipocytes                          15427\n",
       "Dendritic Cells                     10355\n",
       "Osteoblasts                          5884\n",
       "Osteocyte                            5679\n",
       "Osteoclasts                          1088\n",
       "Plasma Cells/MM cells_CD68_2          533\n",
       "Name: count, dtype: int64"
      ]
     },
     "execution_count": 25,
     "metadata": {},
     "output_type": "execute_result"
    }
   ],
   "source": [
    "adata_f.obs['Phenotype5'] = adata.obs['Phenotype5']\n",
    "adata_f.obs['Phenotype5'].value_counts()"
   ]
  },
  {
   "cell_type": "code",
   "execution_count": 26,
   "metadata": {},
   "outputs": [
    {
     "data": {
      "text/plain": [
       "Phenotype5\n",
       "Plasma Cells/MM cells    336820\n",
       "Neutrophils              213151\n",
       "Unknown                  142719\n",
       "Macrophages/Monocytes    101010\n",
       "MPO+                      60363\n",
       "CD8+Tcells                47374\n",
       "CD4+Tcells                32509\n",
       "Endothelial cells         27625\n",
       "HSCs                      18576\n",
       "Adipocytes                15427\n",
       "Dendritic Cells           10355\n",
       "Osteoblasts                5884\n",
       "Osteocyte                  5679\n",
       "Osteoclasts                1088\n",
       "Name: count, dtype: int64"
      ]
     },
     "execution_count": 26,
     "metadata": {},
     "output_type": "execute_result"
    }
   ],
   "source": [
    "adata_f.obs['Phenotype5'] = adata_f.obs['Phenotype5'].replace(['CD68+', 'Macrophages/Monocytes', 'activated Macrophages/Monocytes', 'Plasma Cells/MM cells_CD68_2', 'Plasma Cells/MM cells_CD68'], 'Macrophages/Monocytes')\n",
    "adata_f.obs['HLA-DR_counts'] = adata.obs['HLA-DR_counts']\n",
    "adata_f.obs['Phenotype5'].value_counts()"
   ]
  },
  {
   "cell_type": "code",
   "execution_count": 27,
   "metadata": {},
   "outputs": [
    {
     "data": {
      "text/plain": [
       "Phenotype5\n",
       "Plasma Cells/MM cells              336820\n",
       "Neutrophils                        213151\n",
       "Unknown                            142719\n",
       "MPO+                                60363\n",
       "activated Macrophages/Monocytes     56819\n",
       "CD8+Tcells                          47374\n",
       "Macrophages/Monocytes               44191\n",
       "CD4+Tcells                          32509\n",
       "Endothelial cells                   27625\n",
       "HSCs                                18576\n",
       "Adipocytes                          15427\n",
       "Dendritic Cells                     10355\n",
       "Osteoblasts                          5884\n",
       "Osteocyte                            5679\n",
       "Osteoclasts                          1088\n",
       "Name: count, dtype: int64"
      ]
     },
     "execution_count": 27,
     "metadata": {},
     "output_type": "execute_result"
    }
   ],
   "source": [
    "mask1 = (\n",
    "    (adata_f.obs['HLA-DR_counts'] == 1)\n",
    "    & (adata_f.obs['Phenotype5'] == 'Macrophages/Monocytes')\n",
    ")\n",
    "adata_f.obs.loc[mask1, 'Phenotype5'] = 'activated Macrophages/Monocytes'\n",
    "adata_f.obs['Phenotype5'].value_counts()"
   ]
  },
  {
   "cell_type": "code",
   "execution_count": 28,
   "metadata": {},
   "outputs": [
    {
     "data": {
      "text/plain": [
       "Phenotype5\n",
       "Plasma Cells/MM cells              346268\n",
       "Neutrophils                        213151\n",
       "Unknown                            142719\n",
       "MPO+                                60363\n",
       "activated Macrophages/Monocytes     52872\n",
       "CD8+Tcells                          47374\n",
       "Macrophages/Monocytes               38690\n",
       "CD4+Tcells                          32509\n",
       "Endothelial cells                   27625\n",
       "HSCs                                18576\n",
       "Adipocytes                          15427\n",
       "Dendritic Cells                     10355\n",
       "Osteoblasts                          5884\n",
       "Osteocyte                            5679\n",
       "Osteoclasts                          1088\n",
       "Name: count, dtype: int64"
      ]
     },
     "execution_count": 28,
     "metadata": {},
     "output_type": "execute_result"
    }
   ],
   "source": [
    "mask3 = (\n",
    "    adata_f.obs['Phenotype5'].isin(['Macrophages/Monocytes', 'activated Macrophages/Monocytes']) \n",
    "    & (adata_f[:, 'IRF4'].X.flatten() > 1)\n",
    ")\n",
    "adata_f.obs.loc[mask3, 'Phenotype5'] = 'Plasma Cells/MM cells'\n",
    "adata_f.obs['Phenotype5'].value_counts()"
   ]
  },
  {
   "cell_type": "code",
   "execution_count": 29,
   "metadata": {},
   "outputs": [],
   "source": [
    "adata_f.obs['Phenotype5'] = adata_f.obs['Phenotype5'].astype('category')\n",
    "adata_f.obs = adata_f.obs.rename(columns={'Phenotype5': 'Phenotype4'})"
   ]
  },
  {
   "cell_type": "code",
   "execution_count": 30,
   "metadata": {},
   "outputs": [],
   "source": [
    "adata_f.write_h5ad('/Users/lukashat/Documents/PhD_Schapiro/Projects/Myeloma_Standal/results/standard/adatas/cells_annotated_pp_osteocytes_cleaned_nbh_macs.h5ad')"
   ]
  },
  {
   "cell_type": "code",
   "execution_count": 128,
   "metadata": {},
   "outputs": [],
   "source": [
    "## Only once \n",
    "# adata.obs['Phenotype4'] = adata_f.obs['Phenotype4']\n",
    "# adata2.obs['Phenotype4'] = adata_f.obs['Phenotype4']\n",
    "# adata.write_h5ad('/Users/lukashat/Documents/PhD_Schapiro/Projects/Myeloma_Standal/results/standard/adatas/cells_thresholds_scanorama.h5ad')\n",
    "# adata2.write_h5ad('/Users/lukashat/Documents/PhD_Schapiro/Projects/Myeloma_Standal/results/standard/adatas/cells_thresholds_scanorama2.h5ad')"
   ]
  },
  {
   "cell_type": "markdown",
   "metadata": {},
   "source": [
    "## Writing updated csv files based on the current anndata"
   ]
  },
  {
   "cell_type": "code",
   "execution_count": 33,
   "metadata": {},
   "outputs": [],
   "source": [
    "adata = ad.read_h5ad('/Users/lukashat/Documents/PhD_Schapiro/Projects/Myeloma_Standal/results/standard/adatas/cells_annotated_pp_osteocytes_cleaned.h5ad')"
   ]
  },
  {
   "cell_type": "code",
   "execution_count": 34,
   "metadata": {},
   "outputs": [],
   "source": [
    "intensity_path = '/Users/lukashat/Documents/PhD_Schapiro/Projects/Myeloma_Standal/results/standard/updated_csvs/intensities'\n",
    "regionprops_path = '/Users/lukashat/Documents/PhD_Schapiro/Projects/Myeloma_Standal/results/standard/updated_csvs/regionprops'"
   ]
  },
  {
   "cell_type": "code",
   "execution_count": 35,
   "metadata": {},
   "outputs": [],
   "source": [
    "adata.obs.drop(columns=['Phenotype', 'Phenotype2', 'disease', 'distance_to_bone_corrected', 'disease2', 'patient_ID', 'ROI'], inplace=True)\n",
    "adata.obs.rename(columns={'Phenotype3': 'Phenotype'}, inplace=True)"
   ]
  },
  {
   "cell_type": "code",
   "execution_count": 37,
   "metadata": {},
   "outputs": [],
   "source": [
    "for image in adata.obs['image_ID'].unique():\n",
    "    regionprops = adata[adata.obs['image_ID'] == image].obs.copy()\n",
    "    regionprops = pd.DataFrame(regionprops)\n",
    "    csv_name = regionprops['image_ID'].unique()[0]\n",
    "    regionprops.drop(columns=['image_ID'], inplace=True)\n",
    "    regionprops.to_csv(os.path.join(regionprops_path, csv_name), index=False)\n",
    "\n",
    "    adata_subset = adata[adata.obs['image_ID'] == image].copy()\n",
    "    intensities = adata_subset.to_df()\n",
    "    intensities['Object'] = intensities.index.str.split(' ').str[1]\n",
    "    intensities = intensities[['Object'] + [col for col in intensities.columns if col != 'Object']]\n",
    "    intensities.to_csv(os.path.join(intensity_path, csv_name), index=False)"
   ]
  }
 ],
 "metadata": {
  "kernelspec": {
   "display_name": "scimap",
   "language": "python",
   "name": "python3"
  },
  "language_info": {
   "codemirror_mode": {
    "name": "ipython",
    "version": 3
   },
   "file_extension": ".py",
   "mimetype": "text/x-python",
   "name": "python",
   "nbconvert_exporter": "python",
   "pygments_lexer": "ipython3",
   "version": "3.10.15"
  }
 },
 "nbformat": 4,
 "nbformat_minor": 2
}
