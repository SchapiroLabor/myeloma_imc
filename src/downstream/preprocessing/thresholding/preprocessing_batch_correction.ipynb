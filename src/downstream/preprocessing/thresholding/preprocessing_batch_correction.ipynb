{
 "cells": [
  {
   "cell_type": "code",
   "execution_count": 1,
   "metadata": {},
   "outputs": [
    {
     "name": "stdout",
     "output_type": "stream",
     "text": [
      "Running SCIMAP  2.1.3\n"
     ]
    }
   ],
   "source": [
    "import anndata as ad\n",
    "import pandas as pd\n",
    "import scanpy as sc\n",
    "import seaborn as sns\n",
    "import numpy as np\n",
    "import scimap as sm\n",
    "import matplotlib.pyplot as plt"
   ]
  },
  {
   "cell_type": "code",
   "execution_count": 9,
   "metadata": {},
   "outputs": [],
   "source": [
    "adata = adata = ad.read_h5ad(\"/Users/lukashat/Documents/PhD_Schapiro/Projects/Myeloma_Standal/results/standard/adatas/cells_annotated_pp_osteocytes_cleaned_nbh.h5ad\")\n",
    "adata2 = adata.copy()\n",
    "adata.X = adata.raw.X\n",
    "csv = pd.read_csv('/Users/lukashat/Documents/PhD_Schapiro/Projects/Myeloma_Standal/github/myeloma_standal/src/downstream/basic_non-spatial/thresholding/thresholds.csv')\n",
    "sc.pp.scale(adata2)\n",
    "for i, image in enumerate(list(csv['image'])):\n",
    "    image_name = image.split('.')[0]\n",
    "    adata_subset = adata[adata.obs['image_ID'] == image].copy()\n",
    "    adata2_subset = adata2[adata2.obs['image_ID'] == image].copy()\n",
    "    Ki67_counts = csv['Ki67'][i]\n",
    "    IDO_counts = csv['IDO'][i]\n",
    "    GranzymeB_counts = csv['GranzymeB'][i]\n",
    "    GranzymeK_counts = csv['GranzymeK'][i]\n",
    "    CD68_counts = csv['CD68'][i]\n",
    "    HLA_DR_counts = csv['HLA-DR'][i]\n",
    "    IRF4_counts = csv['IRF4'][i]\n",
    "    adata_subset.obs['Ki67_counts'] = [1 if x > Ki67_counts else 0 for x in adata_subset[:, adata_subset.var_names == 'Ki67'].X.flatten()]\n",
    "    adata_subset.obs['IDO_counts'] = [1 if x > IDO_counts else 0 for x in adata_subset[:, adata_subset.var_names == 'IDO'].X.flatten()]\n",
    "    adata_subset.obs['GranzymeB_counts'] = [1 if x > GranzymeB_counts else 0 for x in adata_subset[:, adata_subset.var_names == 'GranzymeB'].X.flatten()]\n",
    "    adata_subset.obs['GranzymeK_counts'] = [1 if x > GranzymeK_counts else 0 for x in adata_subset[:, adata_subset.var_names == 'GranzymeK'].X.flatten()]\n",
    "    adata_subset.obs['CD68_counts'] = [1 if x > CD68_counts else 0 for x in adata_subset[:, adata_subset.var_names == 'CD68'].X.flatten()]\n",
    "    adata_subset.obs['HLA-DR_counts'] = [1 if x > HLA_DR_counts else 0 for x in adata_subset[:, adata_subset.var_names == 'HLA-DR'].X.flatten()]\n",
    "    adata_subset.obs['IRF4_counts'] = [1 if x > IRF4_counts else 0 for x in adata_subset[:, adata_subset.var_names == 'IRF4'].X.flatten()]\n",
    "    df = adata2_subset.to_df()\n",
    "    for col in list(adata_subset.obs.columns):\n",
    "        adata_subset.obs[col] = adata_subset.obs[col].astype(str)\n",
    "        df[str(col)] = adata_subset.obs[col]\n",
    "    df.to_csv(f'/Users/lukashat/Documents/PhD_Schapiro/Projects/Myeloma_Standal/results/downstream/non-spatial/thresholding/scaled/{image_name}.csv')\n",
    "    \n",
    "    "
   ]
  },
  {
   "cell_type": "code",
   "execution_count": null,
   "metadata": {},
   "outputs": [],
   "source": []
  },
  {
   "cell_type": "markdown",
   "metadata": {},
   "source": [
    "## Using previous scanorama outputs"
   ]
  },
  {
   "cell_type": "code",
   "execution_count": 10,
   "metadata": {},
   "outputs": [],
   "source": [
    "adata = ad.read_h5ad(\"/Users/lukashat/Documents/PhD_Schapiro/Projects/Myeloma_Standal/results/standard/adatas/cells_annotated_pp_osteocytes_cleaned_nbh.h5ad\")\n",
    "adata.X = adata.raw.X\n",
    "csv = pd.read_csv('/Users/lukashat/Documents/PhD_Schapiro/Projects/Myeloma_Standal/github/myeloma_standal/src/downstream/basic_non-spatial/thresholding/thresholds.csv')\n",
    "adata2 = ad.read_h5ad(\"/Users/lukashat/Documents/PhD_Schapiro/Projects/Myeloma_Standal/results/standard/adatas/old_preprocessed/cells_scanorama.h5ad\")\n",
    "adata2 = adata2[adata2.obs['area'] >= 4]\n",
    "for i, image in enumerate(list(csv['image'])):\n",
    "    image_name = image.split('.')[0]\n",
    "    adata_subset = adata[adata.obs['image_ID'] == image].copy()\n",
    "    adata2_subset = adata2[adata2.obs['image'] == f'{image_name}.tiff'].copy()\n",
    "    if not adata_subset.obs_names.str.replace('.csv', '').equals(adata2_subset.obs_names.str.replace('.tiff', '')):\n",
    "        raise ValueError(\"The observation names (obs_names) of adata and adata2 do not match.\")\n",
    "    Ki67_counts = csv['Ki67'][i]\n",
    "    IDO_counts = csv['IDO'][i]\n",
    "    GranzymeB_counts = csv['GranzymeB'][i]\n",
    "    GranzymeK_counts = csv['GranzymeK'][i]\n",
    "    CD68_counts = csv['CD68'][i]\n",
    "    HLA_DR_counts = csv['HLA-DR'][i]\n",
    "    IRF4_counts = csv['IRF4'][i]\n",
    "    adata_subset.obs['Ki67_counts'] = [1 if x > Ki67_counts else 0 for x in adata_subset[:, adata_subset.var_names == 'Ki67'].X.flatten()]\n",
    "    adata_subset.obs['IDO_counts'] = [1 if x > IDO_counts else 0 for x in adata_subset[:, adata_subset.var_names == 'IDO'].X.flatten()]\n",
    "    adata_subset.obs['GranzymeB_counts'] = [1 if x > GranzymeB_counts else 0 for x in adata_subset[:, adata_subset.var_names == 'GranzymeB'].X.flatten()]\n",
    "    adata_subset.obs['GranzymeK_counts'] = [1 if x > GranzymeK_counts else 0 for x in adata_subset[:, adata_subset.var_names == 'GranzymeK'].X.flatten()]\n",
    "    adata_subset.obs['CD68_counts'] = [1 if x > CD68_counts else 0 for x in adata_subset[:, adata_subset.var_names == 'CD68'].X.flatten()]\n",
    "    adata_subset.obs['HLA-DR_counts'] = [1 if x > HLA_DR_counts else 0 for x in adata_subset[:, adata_subset.var_names == 'HLA-DR'].X.flatten()]\n",
    "    adata_subset.obs['IRF4_counts'] = [1 if x > IRF4_counts else 0 for x in adata_subset[:, adata_subset.var_names == 'IRF4'].X.flatten()]\n",
    "    df = adata2_subset.to_df()\n",
    "    for col in list(adata_subset.obs.columns):\n",
    "        adata_subset.obs[col] = adata_subset.obs[col].astype(str)\n",
    "        df[col] = np.array(adata_subset.obs[col])\n",
    "    df.to_csv(f'/Users/lukashat/Documents/PhD_Schapiro/Projects/Myeloma_Standal/results/downstream/non-spatial/thresholding/scanorama/{image_name}_scanorama.csv')\n",
    "    \n",
    "    "
   ]
  },
  {
   "cell_type": "markdown",
   "metadata": {},
   "source": [
    "## Combat"
   ]
  },
  {
   "cell_type": "code",
   "execution_count": 11,
   "metadata": {},
   "outputs": [],
   "source": [
    "adata = ad.read_h5ad(\"/Users/lukashat/Documents/PhD_Schapiro/Projects/Myeloma_Standal/results/standard/adatas/cells_annotated_pp_osteocytes_cleaned_nbh.h5ad\")\n",
    "adata.X = adata.raw.X\n",
    "csv = pd.read_csv('/Users/lukashat/Documents/PhD_Schapiro/Projects/Myeloma_Standal/github/myeloma_standal/src/downstream/basic_non-spatial/thresholding/thresholds.csv')\n",
    "adata2 = adata.copy()\n",
    "sc.pp.combat(adata2, key='patient_ID')\n",
    "for i, image in enumerate(list(csv['image'])):\n",
    "    image_name = image.split('.')[0]\n",
    "    adata_subset = adata[adata.obs['image_ID'] == image].copy()\n",
    "    adata2_subset = adata2[adata2.obs['image_ID'] == image].copy()\n",
    "    Ki67_counts = csv['Ki67'][i]\n",
    "    IDO_counts = csv['IDO'][i]\n",
    "    GranzymeB_counts = csv['GranzymeB'][i]\n",
    "    GranzymeK_counts = csv['GranzymeK'][i]\n",
    "    CD68_counts = csv['CD68'][i]\n",
    "    HLA_DR_counts = csv['HLA-DR'][i]\n",
    "    IRF4_counts = csv['IRF4'][i]\n",
    "    adata_subset.obs['Ki67_counts'] = [1 if x > Ki67_counts else 0 for x in adata_subset[:, adata_subset.var_names == 'Ki67'].X.flatten()]\n",
    "    adata_subset.obs['IDO_counts'] = [1 if x > IDO_counts else 0 for x in adata_subset[:, adata_subset.var_names == 'IDO'].X.flatten()]\n",
    "    adata_subset.obs['GranzymeB_counts'] = [1 if x > GranzymeB_counts else 0 for x in adata_subset[:, adata_subset.var_names == 'GranzymeB'].X.flatten()]\n",
    "    adata_subset.obs['GranzymeK_counts'] = [1 if x > GranzymeK_counts else 0 for x in adata_subset[:, adata_subset.var_names == 'GranzymeK'].X.flatten()]\n",
    "    adata_subset.obs['CD68_counts'] = [1 if x > CD68_counts else 0 for x in adata_subset[:, adata_subset.var_names == 'CD68'].X.flatten()]\n",
    "    adata_subset.obs['HLA-DR_counts'] = [1 if x > HLA_DR_counts else 0 for x in adata_subset[:, adata_subset.var_names == 'HLA-DR'].X.flatten()]\n",
    "    adata_subset.obs['IRF4_counts'] = [1 if x > IRF4_counts else 0 for x in adata_subset[:, adata_subset.var_names == 'IRF4'].X.flatten()]\n",
    "    df = adata2_subset.to_df()\n",
    "    for col in list(adata_subset.obs.columns):\n",
    "        adata_subset.obs[col] = adata_subset.obs[col].astype(str)\n",
    "        df[col] = np.array(adata_subset.obs[col])\n",
    "    df.to_csv(f'/Users/lukashat/Documents/PhD_Schapiro/Projects/Myeloma_Standal/results/downstream/non-spatial/thresholding/combat/{image_name}_combat.csv')\n",
    "    \n",
    "    "
   ]
  },
  {
   "cell_type": "code",
   "execution_count": null,
   "metadata": {},
   "outputs": [],
   "source": [
    "df"
   ]
  },
  {
   "cell_type": "code",
   "execution_count": 8,
   "metadata": {},
   "outputs": [
    {
     "data": {
      "text/plain": [
       "CD38                          0\n",
       "Perilipin                     0\n",
       "Vimentin                      0\n",
       "B4GALT1                       0\n",
       "MPO                           0\n",
       "CathepsinK                    0\n",
       "ATP5A                         0\n",
       "RUNX2                         0\n",
       "HIF1A                         0\n",
       "CD11b                         0\n",
       "CD45                          0\n",
       "CS                            0\n",
       "CD11c                         0\n",
       "CD36                          0\n",
       "CD4                           0\n",
       "CD34                          0\n",
       "CD68                          0\n",
       "IL32                          0\n",
       "IDO                           0\n",
       "CD8                           0\n",
       "GranzymeK                     0\n",
       "PKM2                          0\n",
       "IRF4                          0\n",
       "GLUT1                         0\n",
       "GranzymeB                     0\n",
       "Ki67                          0\n",
       "CollagenTypeI                 0\n",
       "CD3                           0\n",
       "CPT1A                         0\n",
       "CD98                          0\n",
       "HLA-DR                        0\n",
       "ST6GAL1                       0\n",
       "CD138                         0\n",
       "Object                        0\n",
       "area                          0\n",
       "Y_centroid                    0\n",
       "X_centroid                    0\n",
       "axis_major_length             0\n",
       "axis_minor_length             0\n",
       "eccentricity                  0\n",
       "distance_to_bone              0\n",
       "Phenotype                     0\n",
       "image_ID                      0\n",
       "disease                       0\n",
       "patient_ID                    0\n",
       "ROI                           0\n",
       "disease2                      0\n",
       "distance_to_bone_corrected    0\n",
       "Phenotype2                    0\n",
       "Phenotype3                    0\n",
       "cellcharter_CN                0\n",
       "Ki67_counts                   0\n",
       "IDO_counts                    0\n",
       "GranzymeB_counts              0\n",
       "GranzymeK_counts              0\n",
       "CD68_counts                   0\n",
       "HLA-DR_counts                 0\n",
       "IRF4_counts                   0\n",
       "dtype: int64"
      ]
     },
     "execution_count": 8,
     "metadata": {},
     "output_type": "execute_result"
    }
   ],
   "source": [
    "df.isna().sum()"
   ]
  },
  {
   "cell_type": "code",
   "execution_count": null,
   "metadata": {},
   "outputs": [],
   "source": []
  }
 ],
 "metadata": {
  "kernelspec": {
   "display_name": "scimap",
   "language": "python",
   "name": "python3"
  },
  "language_info": {
   "codemirror_mode": {
    "name": "ipython",
    "version": 3
   },
   "file_extension": ".py",
   "mimetype": "text/x-python",
   "name": "python",
   "nbconvert_exporter": "python",
   "pygments_lexer": "ipython3",
   "version": "3.10.15"
  }
 },
 "nbformat": 4,
 "nbformat_minor": 2
}
