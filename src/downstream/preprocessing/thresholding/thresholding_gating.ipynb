{
 "cells": [
  {
   "cell_type": "code",
   "execution_count": null,
   "metadata": {},
   "outputs": [],
   "source": [
    "import anndata as ad\n",
    "import pandas as pd\n",
    "import scanpy as sc\n",
    "import seaborn as sns\n",
    "import numpy as np\n",
    "import scimap as sm\n",
    "import matplotlib.pyplot as plt"
   ]
  },
  {
   "cell_type": "code",
   "execution_count": 2,
   "metadata": {},
   "outputs": [],
   "source": [
    "adata_old = ad.read_h5ad(\"/Users/lukashat/Documents/PhD_Schapiro/Projects/Myeloma_Standal/results/standard/adatas/old_preprocessed/cells.h5ad\")\n",
    "channel_names = list(adata_old.var_names)"
   ]
  },
  {
   "cell_type": "code",
   "execution_count": 74,
   "metadata": {},
   "outputs": [],
   "source": [
    "file = 'TS-373_IMC66_B_001'\n",
    "adata = ad.read_h5ad(\"/Users/lukashat/Documents/PhD_Schapiro/Projects/Myeloma_Standal/results/standard/adatas/cells_annotated_pp_osteocytes_cleaned_nbh.h5ad\")\n",
    "adata.uns['all_markers'] = channel_names\n",
    "adata_subset = adata[adata.obs['image_ID'] == f'{file}.csv']\n",
    "image_path = f'/Users/lukashat/Documents/PhD_Schapiro/Projects/Myeloma_Standal/results/standard/img/{file}.tiff'\n",
    "mask_path = f'/Users/lukashat/Documents/PhD_Schapiro/Projects/Myeloma_Standal/results/standard/masks/{file}.tiff'"
   ]
  },
  {
   "cell_type": "code",
   "execution_count": 37,
   "metadata": {},
   "outputs": [],
   "source": [
    "sm.pl.image_viewer(image_path = image_path, adata = adata, overlay = 'Phenotype3', point_color='white', imageid = 'image_ID', subset=f'{file}.csv', point_size=5, seg_mask = mask_path)"
   ]
  },
  {
   "cell_type": "code",
   "execution_count": null,
   "metadata": {},
   "outputs": [],
   "source": [
    "marker_of_interest = 'IRF4'\n",
    "sm.pl.gate_finder (image_path, adata_subset, marker_of_interest,\n",
    "                   from_gate = 0, to_gate = 10, increment = 0.1, point_size=5, markers=['HistoneH3', 'CD138'],\n",
    "                   seg_mask = mask_path, log=False)"
   ]
  },
  {
   "cell_type": "code",
   "execution_count": null,
   "metadata": {},
   "outputs": [],
   "source": [
    "marker_of_interest = 'CD68'\n",
    "sm.pl.gate_finder (image_path, adata_subset, marker_of_interest,\n",
    "                   from_gate = 5, to_gate = 15, increment = 0.2, point_size=3, markers=['HistoneH3', 'CD138'],\n",
    "                   seg_mask = mask_path, log=False)"
   ]
  },
  {
   "cell_type": "code",
   "execution_count": 124,
   "metadata": {},
   "outputs": [],
   "source": [
    "marker_of_interest = 'HLA-DR'\n",
    "sm.pl.gate_finder (image_path, adata_subset, marker_of_interest,\n",
    "                   from_gate = 0, to_gate = 20, increment = 0.2, point_size=3, markers=['HistoneH3'],\n",
    "                   seg_mask = mask_path, log=False)"
   ]
  },
  {
   "cell_type": "code",
   "execution_count": 17,
   "metadata": {},
   "outputs": [],
   "source": [
    "marker_of_interest = 'Ki67'\n",
    "sm.pl.gate_finder (image_path, adata_subset, marker_of_interest,\n",
    "                   from_gate = 0, to_gate = 10, increment = 0.1, point_size=3, markers=['HistoneH3'],\n",
    "                   seg_mask = mask_path, log=False)"
   ]
  },
  {
   "cell_type": "code",
   "execution_count": 18,
   "metadata": {},
   "outputs": [],
   "source": [
    "marker_of_interest = 'IDO'\n",
    "sm.pl.gate_finder (image_path, adata_subset, marker_of_interest,\n",
    "                   from_gate = 0, to_gate = 10, increment = 0.1, point_size=3, markers=['HistoneH3', 'CD11c', 'HLA-DR'],\n",
    "                   seg_mask = mask_path, log=False)"
   ]
  },
  {
   "cell_type": "code",
   "execution_count": 19,
   "metadata": {},
   "outputs": [],
   "source": [
    "marker_of_interest = 'GranzymeB'\n",
    "sm.pl.gate_finder (image_path, adata_subset, marker_of_interest,\n",
    "                   from_gate = 0, to_gate = 10, increment = 0.1, point_size=3, markers=['HistoneH3', 'CD3', 'CD8'],\n",
    "                   seg_mask = mask_path, log=False)"
   ]
  },
  {
   "cell_type": "code",
   "execution_count": 20,
   "metadata": {},
   "outputs": [],
   "source": [
    "marker_of_interest = 'GranzymeK'\n",
    "sm.pl.gate_finder (image_path, adata_subset, marker_of_interest,\n",
    "                   from_gate = 0, to_gate = 10, increment = 0.1, point_size=3, markers=['HistoneH3', 'CD3', 'CD8'],\n",
    "                   seg_mask = mask_path, log=False)"
   ]
  },
  {
   "cell_type": "code",
   "execution_count": null,
   "metadata": {},
   "outputs": [],
   "source": []
  }
 ],
 "metadata": {
  "kernelspec": {
   "display_name": "scimap",
   "language": "python",
   "name": "python3"
  },
  "language_info": {
   "codemirror_mode": {
    "name": "ipython",
    "version": 3
   },
   "file_extension": ".py",
   "mimetype": "text/x-python",
   "name": "python",
   "nbconvert_exporter": "python",
   "pygments_lexer": "ipython3",
   "version": "3.10.15"
  }
 },
 "nbformat": 4,
 "nbformat_minor": 2
}
