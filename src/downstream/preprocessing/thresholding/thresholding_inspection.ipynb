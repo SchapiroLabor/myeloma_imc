{
 "cells": [
  {
   "cell_type": "code",
   "execution_count": null,
   "metadata": {},
   "outputs": [],
   "source": [
    "import anndata as ad\n",
    "import pandas as pd\n",
    "import scanpy as sc\n",
    "import seaborn as sns\n",
    "import numpy as np\n",
    "import scimap as sm\n",
    "import matplotlib.pyplot as plt"
   ]
  },
  {
   "cell_type": "code",
   "execution_count": null,
   "metadata": {},
   "outputs": [],
   "source": [
    "adata_old = ad.read_h5ad(\"/Users/lukashat/Documents/PhD_Schapiro/Projects/Myeloma_Standal/results/standard/adatas/old_preprocessed/cells.h5ad\")\n",
    "channel_names = list(adata_old.var_names)\n",
    "adata = ad.read_h5ad('/Users/lukashat/Documents/PhD_Schapiro/Projects/Myeloma_Standal/results/standard/adatas/cells_current_clr_sample_pp.h5ad')\n",
    "#adata = ad.read_h5ad(\"/Users/lukashat/Documents/PhD_Schapiro/Projects/Myeloma_Standal/results/standard/adatas/cells_thresholds_scanorama.h5ad\")\n",
    "adata.uns['all_markers'] = channel_names\n",
    "# adata.obs['Ki67_counts'] = adata.obs['Ki67_counts'].replace(0,'neg').replace(1,'pos')\n",
    "# adata.obs['IDO_counts'] = adata.obs['IDO_counts'].replace(0,'neg').replace(1,'pos')\n",
    "# adata.obs['GranzymeB_counts'] = adata.obs['GranzymeB_counts'].replace(0,'neg').replace(1,'pos')\n",
    "# adata.obs['GranzymeK_counts'] = adata.obs['GranzymeK_counts'].replace(0,'neg').replace(1,'pos')\n",
    "# adata.obs['CD68_counts'] = adata.obs['CD68_counts'].replace(0,'neg').replace(1,'pos')\n",
    "# adata.obs['HLA-DR_counts'] = adata.obs['HLA-DR_counts'].replace(0,'neg').replace(1,'pos')\n",
    "# adata.obs['IRF4_counts'] = adata.obs['IRF4_counts'].replace(0,'neg').replace(1,'pos')"
   ]
  },
  {
   "cell_type": "code",
   "execution_count": null,
   "metadata": {},
   "outputs": [],
   "source": [
    "# adata.write_h5ad('/Users/lukashat/Documents/PhD_Schapiro/Projects/Myeloma_Standal/results/standard/adatas/adata_ingrid.h5ad')"
   ]
  },
  {
   "cell_type": "code",
   "execution_count": null,
   "metadata": {},
   "outputs": [],
   "source": []
  },
  {
   "cell_type": "code",
   "execution_count": null,
   "metadata": {},
   "outputs": [],
   "source": [
    "subset = 'TS-373_IMC26_B_001'\n",
    "image_path = f'/Users/lukashat/Documents/PhD_Schapiro/Projects/Myeloma_Standal/results/standard/img/{subset}.tiff'\n",
    "mask_path = f'/Users/lukashat/Documents/PhD_Schapiro/Projects/Myeloma_Standal/results/standard/masks/{subset}.tiff'\n",
    "sm.pl.image_viewer(image_path = image_path, adata = adata, overlay = 'Phenotype4', point_color='white', imageid = 'image_ID', subset=f'{subset}.csv', point_size=5, seg_mask = mask_path)"
   ]
  },
  {
   "cell_type": "code",
   "execution_count": null,
   "metadata": {},
   "outputs": [],
   "source": [
    "adata.obs"
   ]
  },
  {
   "cell_type": "code",
   "execution_count": null,
   "metadata": {},
   "outputs": [],
   "source": [
    "subset = 'TS-373_IMC33_B_001'\n",
    "sm.pl.densityPlot2D(adata, markerA='CD98', markerB='CPT1A', layer=None, subset=f'{subset}.csv', imageid='image_ID')"
   ]
  },
  {
   "cell_type": "code",
   "execution_count": null,
   "metadata": {},
   "outputs": [],
   "source": [
    "# 3673, 3820, 3845, 3826, 3565"
   ]
  },
  {
   "cell_type": "code",
   "execution_count": null,
   "metadata": {},
   "outputs": [],
   "source": [
    "adata[adata.obs['image_ID'] == 'TS-373_IMC39_B_001.csv']"
   ]
  },
  {
   "cell_type": "code",
   "execution_count": null,
   "metadata": {},
   "outputs": [],
   "source": [
    "subset = adata[adata.obs['image_ID'] == 'TS-373_IMC39_B_001.csv']\n",
    "df_expr = subset.to_df()\n",
    "df_combined = df_expr.join(subset.obs)\n",
    "df_combined"
   ]
  },
  {
   "cell_type": "code",
   "execution_count": null,
   "metadata": {},
   "outputs": [],
   "source": [
    "df_combined.to_csv('/Users/lukashat/Downloads/TS-373_IMC39_B_001.csv')"
   ]
  }
 ],
 "metadata": {
  "kernelspec": {
   "display_name": "scimap",
   "language": "python",
   "name": "python3"
  },
  "language_info": {
   "codemirror_mode": {
    "name": "ipython",
    "version": 3
   },
   "file_extension": ".py",
   "mimetype": "text/x-python",
   "name": "python",
   "nbconvert_exporter": "python",
   "pygments_lexer": "ipython3",
   "version": "3.10.15"
  }
 },
 "nbformat": 4,
 "nbformat_minor": 2
}
