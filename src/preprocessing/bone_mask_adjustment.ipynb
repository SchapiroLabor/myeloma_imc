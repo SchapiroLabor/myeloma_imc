{
 "cells": [
  {
   "cell_type": "code",
   "execution_count": 1,
   "metadata": {},
   "outputs": [],
   "source": [
    "import tifffile as tiff\n",
    "from skimage import exposure, img_as_float\n",
    "import numpy as np\n",
    "import napari\n",
    "from napari.settings import get_settings\n",
    "from skimage.filters import threshold_otsu, gaussian\n",
    "from skimage.morphology import binary_dilation, disk, binary_closing, binary_opening\n",
    "import pandas as pd\n",
    "from scipy.ndimage import distance_transform_edt\n",
    "settings = get_settings()\n"
   ]
  },
  {
   "cell_type": "code",
   "execution_count": 2,
   "metadata": {},
   "outputs": [],
   "source": [
    "def is_inside_mask(x, y, mask):\n",
    "    x_int = int(round(x))\n",
    "    y_int = int(round(y))\n",
    "    if y_int >= mask.shape[0] or x_int >= mask.shape[1]:\n",
    "        return False\n",
    "    return mask[y_int, x_int]\n",
    "\n",
    "def get_distance(row):\n",
    "    x, y = round(row['centroid-1']), round(row['centroid-0'])\n",
    "    y = max(0, min(y, distance_from_bone.shape[0] - 1))\n",
    "    x = max(0, min(x, distance_from_bone.shape[1] - 1))\n",
    "    return distance_from_bone[y, x]"
   ]
  },
  {
   "cell_type": "code",
   "execution_count": 3,
   "metadata": {},
   "outputs": [],
   "source": [
    "settings.application.ipy_interactive = True"
   ]
  },
  {
   "cell_type": "code",
   "execution_count": 4,
   "metadata": {},
   "outputs": [],
   "source": [
    "file_name = 'TS-373_IMC95_B_001'"
   ]
  },
  {
   "cell_type": "code",
   "execution_count": 5,
   "metadata": {},
   "outputs": [],
   "source": [
    "major_path = '/Users/lukashat/Documents/PhD_Schapiro/Projects/Myeloma_Standal/QC/adjusting_bone_masks'\n",
    "image_path = major_path + '/img/' + file_name + '.tiff'\n",
    "mask_path = major_path + '/bone_masks/' + file_name + '_bone_masks.tif'\n",
    "bone_savepath = '/Users/lukashat/Documents/PhD_Schapiro/Projects/Myeloma_Standal/QC/adjusting_bone_masks/new_bone_masks'\n",
    "regionprops_savepath = '/Users/lukashat/Documents/PhD_Schapiro/Projects/Myeloma_Standal/QC/adjusting_bone_masks/new_regionprops'\n",
    "merged_savepath = '/Users/lukashat/Documents/PhD_Schapiro/Projects/Myeloma_Standal/QC/adjusting_bone_masks/new_merged'\n",
    "img = tiff.imread(image_path)\n",
    "collagen_channel = img[31,:,:]\n",
    "mask = tiff.imread(mask_path)"
   ]
  },
  {
   "cell_type": "code",
   "execution_count": 6,
   "metadata": {},
   "outputs": [],
   "source": [
    "regionprops = pd.read_csv(major_path + '/regionprops/' + file_name + '.csv')\n",
    "merged = pd.read_csv(major_path + '/merged_csv/' + file_name + '.csv')"
   ]
  },
  {
   "cell_type": "code",
   "execution_count": 7,
   "metadata": {},
   "outputs": [
    {
     "data": {
      "text/plain": [
       "<Image layer 'mask' at 0x15cb9b410>"
      ]
     },
     "execution_count": 7,
     "metadata": {},
     "output_type": "execute_result"
    }
   ],
   "source": [
    "viewer = napari.Viewer()\n",
    "viewer.add_image(collagen_channel, name='collagen_channel')\n",
    "viewer.add_image(mask, name='mask')\n"
   ]
  },
  {
   "cell_type": "code",
   "execution_count": 8,
   "metadata": {},
   "outputs": [
    {
     "data": {
      "text/plain": [
       "<Image layer 'clahe' at 0x3081e2150>"
      ]
     },
     "execution_count": 8,
     "metadata": {},
     "output_type": "execute_result"
    }
   ],
   "source": [
    "collagen_channel = exposure.rescale_intensity(collagen_channel, out_range=(0, 1))\n",
    "clahe = exposure.equalize_adapthist(collagen_channel,kernel_size=(200,200), clip_limit=0.05)\n",
    "viewer.add_image(clahe, name='clahe')"
   ]
  },
  {
   "cell_type": "code",
   "execution_count": 9,
   "metadata": {},
   "outputs": [],
   "source": [
    "# In case Manual region selection is necessary\n",
    "# composite_mask = np.zeros_like(collagen_channel, dtype=bool)\n",
    "# regions = [\n",
    "#     (68, 0, 560, 257),\n",
    "#     (328, 265, 601, 464),\n",
    "#     (339, 443, 513, 642),\n",
    "#     (87, 939, 453, 1000),\n",
    "#     (548, 951, 624, 1000)\n",
    "# ]\n",
    "# for (y_min, x_min, y_max, x_max) in regions:\n",
    "#     composite_mask[y_min:y_max, x_min:x_max] = True\n",
    "# viewer.add_image(composite_mask, name='composite mask')"
   ]
  },
  {
   "cell_type": "code",
   "execution_count": 10,
   "metadata": {},
   "outputs": [],
   "source": [
    "\n",
    "# filtered_image = np.where(composite_mask, collagen_channel, 0)\n",
    "# viewer.add_image(filtered_image, name='filtered collagen channel')\n",
    "# clahe = exposure.equalize_adapthist(filtered_image,kernel_size=(100,100), clip_limit=0.01)\n",
    "# viewer.add_image(clahe, name='clahe')"
   ]
  },
  {
   "cell_type": "code",
   "execution_count": 11,
   "metadata": {},
   "outputs": [
    {
     "data": {
      "text/plain": [
       "<Image layer 'closed_mask' at 0x31cda54d0>"
      ]
     },
     "execution_count": 11,
     "metadata": {},
     "output_type": "execute_result"
    }
   ],
   "source": [
    "smoothed_image = gaussian(clahe, sigma=1)\n",
    "thresh = threshold_otsu(clahe)\n",
    "bone_mask_otsu = smoothed_image > thresh\n",
    "opened_mask = binary_opening(bone_mask_otsu, disk(1))\n",
    "closed_mask = binary_closing(opened_mask, disk(10)) \n",
    "dilated_mask = binary_dilation(closed_mask, disk(15))\n",
    "distance_from_bone = distance_transform_edt(1 - closed_mask)\n",
    "viewer.add_image(smoothed_image, name='smoothed')\n",
    "viewer.add_image(bone_mask_otsu, name='bone mask')\n",
    "viewer.add_image(dilated_mask, name='dilated')\n",
    "viewer.add_image(closed_mask, name='closed_mask')"
   ]
  },
  {
   "cell_type": "code",
   "execution_count": 12,
   "metadata": {},
   "outputs": [],
   "source": [
    "regionprops['near_bone'] = regionprops.apply(lambda row: is_inside_mask(row['centroid-1'], row['centroid-0'], dilated_mask), axis=1)\n",
    "regionprops['distance_to_bone'] = regionprops.apply(get_distance, axis=1)\n",
    "merged['near_bone'] = merged.apply(lambda row: is_inside_mask(row['centroid-1'], row['centroid-0'], dilated_mask), axis=1)\n",
    "merged['distance_to_bone'] = merged.apply(get_distance, axis=1)"
   ]
  },
  {
   "cell_type": "code",
   "execution_count": 13,
   "metadata": {},
   "outputs": [],
   "source": [
    "multichannel_image = np.stack([collagen_channel, bone_mask_otsu.astype(np.uint8), opened_mask.astype(np.uint8), closed_mask.astype(np.uint8), dilated_mask.astype(np.uint8), distance_from_bone.astype(np.uint16)], axis=0)\n",
    "tiff.imwrite(bone_savepath+'/'+file_name+ \"_bone_masks.tif\", multichannel_image, photometric='minisblack')\n",
    "merged.to_csv(merged_savepath+'/'+file_name+'.csv', index=False)\n",
    "regionprops.to_csv(regionprops_savepath+'/'+file_name+'.csv', index=False)\n"
   ]
  },
  {
   "cell_type": "code",
   "execution_count": null,
   "metadata": {},
   "outputs": [],
   "source": []
  }
 ],
 "metadata": {
  "kernelspec": {
   "display_name": "steinbock",
   "language": "python",
   "name": "python3"
  },
  "language_info": {
   "codemirror_mode": {
    "name": "ipython",
    "version": 3
   },
   "file_extension": ".py",
   "mimetype": "text/x-python",
   "name": "python",
   "nbconvert_exporter": "python",
   "pygments_lexer": "ipython3",
   "version": "3.1.-1"
  }
 },
 "nbformat": 4,
 "nbformat_minor": 2
}
