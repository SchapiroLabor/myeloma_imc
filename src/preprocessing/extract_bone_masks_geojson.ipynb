{
 "cells": [
  {
   "cell_type": "code",
   "execution_count": 1,
   "metadata": {},
   "outputs": [],
   "source": [
    "\n",
    "from pathlib import Path \n",
    "import numpy as np\n",
    "import tifffile as tifff\n",
    "import os\n",
    "import json\n",
    "from PIL import Image, ImageDraw\n",
    "#from skimage.draw import polygon2mask"
   ]
  },
  {
   "cell_type": "code",
   "execution_count": 2,
   "metadata": {},
   "outputs": [],
   "source": [
    "def polygon2mask(xysize, polygon_outline):\n",
    "    mask = Image.new('L', xysize, 0)\n",
    "    ImageDraw.Draw(mask).polygon(polygon_outline, outline=1, fill=1)\n",
    "    return np.array(mask)\n",
    "xysize=(1000,1000)"
   ]
  },
  {
   "cell_type": "code",
   "execution_count": 3,
   "metadata": {},
   "outputs": [],
   "source": [
    "# xysize=(1000,1000)"
   ]
  },
  {
   "cell_type": "code",
   "execution_count": 4,
   "metadata": {},
   "outputs": [],
   "source": [
    "base_path = '/Users/lukashat/Documents/PhD_Schapiro/Projects/Myeloma_Standal/results/artifact_bone_masks/GeoJSON files_artifact bone'"
   ]
  },
  {
   "cell_type": "code",
   "execution_count": 5,
   "metadata": {},
   "outputs": [],
   "source": [
    "def process_geojson(geojson_file, xysize=(1000, 1000)):\n",
    "    with open(geojson_file) as f:\n",
    "        data = json.load(f)\n",
    "    \n",
    "    mask_combined = np.zeros(xysize, dtype=np.uint8)\n",
    "    non_bone_mask = np.zeros(xysize, dtype=np.uint8)\n",
    "    \n",
    "    for feature in data['features']:\n",
    "        geometry = feature['geometry']\n",
    "        if 'name' in feature['properties'] and feature['properties']['name'].startswith('Bone'):\n",
    "            if geometry['type'] == 'Polygon':\n",
    "                for polygon_coords in geometry['coordinates']:\n",
    "                    polygon_outline = [(coord[0], coord[1]) for coord in polygon_coords]\n",
    "                    mask = polygon2mask(xysize, polygon_outline)\n",
    "                    mask_combined = np.logical_or(mask_combined, mask)\n",
    "            elif geometry['type'] == 'MultiPolygon':\n",
    "                for polygon in geometry['coordinates']:\n",
    "                    for polygon_coords in polygon:\n",
    "                        polygon_outline = [(coord[0], coord[1]) for coord in polygon_coords]\n",
    "                        mask = polygon2mask(xysize, polygon_outline)\n",
    "                        mask_combined = np.logical_or(mask_combined, mask)\n",
    "            else:\n",
    "                print(f\"Unknown geometry type: {geometry['type']}\")\n",
    "        else:\n",
    "            if geometry['type'] == 'Polygon':\n",
    "                for polygon_coords in geometry['coordinates']:\n",
    "                    polygon_outline = [(coord[0], coord[1]) for coord in polygon_coords]\n",
    "                    mask = polygon2mask(xysize, polygon_outline)\n",
    "                    non_bone_mask = np.logical_or(non_bone_mask, mask)\n",
    "            elif geometry['type'] == 'MultiPolygon':\n",
    "                for polygon in geometry['coordinates']:\n",
    "                    for polygon_coords in polygon:\n",
    "                        polygon_outline = [(coord[0], coord[1]) for coord in polygon_coords]\n",
    "                        mask = polygon2mask(xysize, polygon_outline)\n",
    "                        non_bone_mask = np.logical_or(non_bone_mask, mask)\n",
    "            else:\n",
    "                print(f\"Unknown geometry type: {geometry['type']}\")\n",
    "    mask_combined = np.logical_and(mask_combined, np.logical_not(non_bone_mask))\n",
    "    return (mask_combined * 255).astype(np.uint8)"
   ]
  },
  {
   "cell_type": "code",
   "execution_count": 9,
   "metadata": {},
   "outputs": [
    {
     "name": "stdout",
     "output_type": "stream",
     "text": [
      "Processing TS-373_IMC05_MGUS_001.geojson\n",
      "Processing TS-373_IMC93_B_002.geojson\n",
      "Processing TS-373_IMC84_B_002.geojson\n",
      "Processing TS-373_IMC04_MGUS_002.geojson\n",
      "Processing TS-373_IMC89_B_001.geojson\n",
      "Processing TS-373_IMC50_B_001.geojson\n",
      "Processing TS-373_IMC89_B_002.geojson\n",
      "Processing TS-373_IMC04_MGUS_001.geojson\n",
      "Processing TS-373_IMC93_B_001.geojson\n",
      "Processing TS-373_IMC37-1_MGUS_001.geojson\n",
      "Processing TS-373_IMC08_UB_002.geojson\n",
      "Processing TS-373_IMC88_B_002.geojson\n",
      "Processing TS-373_IMC66_B_001.geojson\n",
      "Processing TS-373_IMC92_B_001.geojson\n",
      "Processing TS-373_IMC38_B_001.geojson\n",
      "Processing TS-373_IMC45_B_002.geojson\n",
      "Processing TS-373_IMC18-1_MGUS_001.geojson\n",
      "Processing TS-373_IMC67-1_B_001.geojson\n",
      "Processing TS-373_IMC85_UB_002.geojson\n",
      "Processing TS-373_IMC90.1_B_002.geojson\n",
      "Processing TS-373_IMC12_UB_001.geojson\n",
      "Processing TS-373_IMC15_B_002.geojson\n",
      "Processing TS-373_IMC86_B_002.geojson\n",
      "Processing TS-373_IMC87-1_UB_002.geojson\n",
      "Processing TS-373_IMC72_MGUS_002.geojson\n",
      "Processing TS-373_IMC78_UB_001.geojson\n",
      "Processing TS-373_IMC88_B_001.geojson\n",
      "Processing TS-373_IMC66_B_002.geojson\n",
      "Processing TS-373_IMC35_B_001.geojson\n",
      "Processing TS-373_IMC48_B_002.geojson\n"
     ]
    }
   ],
   "source": [
    "for file in os.listdir(base_path):\n",
    "    sample = file.split('.')[0]\n",
    "    if file.endswith('.geojson'):\n",
    "        print(f\"Processing {file}\")\n",
    "        mask = process_geojson(os.path.join(base_path, file))\n",
    "        output_file = os.path.join('/Users/lukashat/Documents/PhD_Schapiro/Projects/Myeloma_Standal/results/artifact_bone_masks/bone_masks', sample + '_bone_masks.tiff')\n",
    "        Image.fromarray(mask).save(output_file)"
   ]
  },
  {
   "cell_type": "code",
   "execution_count": null,
   "metadata": {},
   "outputs": [],
   "source": []
  }
 ],
 "metadata": {
  "kernelspec": {
   "display_name": "steinbock",
   "language": "python",
   "name": "python3"
  },
  "language_info": {
   "codemirror_mode": {
    "name": "ipython",
    "version": 3
   },
   "file_extension": ".py",
   "mimetype": "text/x-python",
   "name": "python",
   "nbconvert_exporter": "python",
   "pygments_lexer": "ipython3",
   "version": "3.10.0"
  }
 },
 "nbformat": 4,
 "nbformat_minor": 2
}
